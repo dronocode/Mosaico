{
 "cells": [
  {
   "cell_type": "code",
   "execution_count": 1,
   "metadata": {},
   "outputs": [
    {
     "data": {
      "text/html": [
       "\n",
       "Cloud Formation:\n",
       "<select id='action'>\n",
       " <option value=\"describe\" selected>describe</option>\n",
       " <option value=\"create\" >create</option>\n",
       " <option value=\"remove\">remove</option>\n",
       " <option value=\"suspend\">suspend</option>\n",
       " <option value=\"resume\">resume</option>\n",
       "</select>\n",
       "<button id=\"run\">Run</button>\n"
      ]
     },
     "metadata": {},
     "output_type": "execute_result"
    },
    {
     "data": {},
     "metadata": {},
     "output_type": "display_data"
    },
    {
     "data": {},
     "metadata": {},
     "output_type": "display_data"
    },
    {
     "data": {
      "text/plain": [
       "\u001b[32mimport \u001b[39m\u001b[36mammonite.ops._\n",
       "\u001b[39m\n",
       "defined \u001b[32mfunction\u001b[39m \u001b[36mclean\u001b[39m\n",
       "defined \u001b[32mfunction\u001b[39m \u001b[36mmessage\u001b[39m"
      ]
     },
     "execution_count": 1,
     "metadata": {},
     "output_type": "execute_result"
    }
   ],
   "source": [
    "import ammonite.ops._\n",
    "publish.html(\"\"\"\n",
    "Cloud Formation:\n",
    "<select id='action'>\n",
    " <option value=\"describe\" selected>describe</option>\n",
    " <option value=\"create\" >create</option>\n",
    " <option value=\"remove\">remove</option>\n",
    " <option value=\"suspend\">suspend</option>\n",
    " <option value=\"resume\">resume</option>\n",
    "</select>\n",
    "<button id=\"run\">Run</button>\n",
    "\"\"\")\n",
    "publish.javascript(\"\"\"\n",
    "$(\"#outputcontainer\").remove()\n",
    "$(\".end_space\").append(\"<div id='outputcontainer' class='container'><pre id='output'></pre></div>\")\n",
    "\"\"\")\n",
    "publish.javascript(\"\"\"\n",
    "  window.now = function() { \n",
    "     var time = new Date(); \n",
    "     return time.getHours()+\":\"+time.getMinutes()+\":\"+time.getSeconds() \n",
    "  }\n",
    "  $(\"#run\").off(\"click\")\n",
    "  $(\"#run\").on(\"click\", function(data) {\n",
    "  var data = \"val action=\\\"\"+$(\"#action\").val()+\"\\\"\\nval debug=false\"\n",
    "  IPython.notebook.get_cell(1).code_mirror.setValue(data) \n",
    "  IPython.notebook.select(1)\n",
    "  IPython.notebook.execute_cells_below()\n",
    "})\n",
    "\"\"\")\n",
    "def clean(s: String) = s.replaceAll(\"\\n\", \"\"\"\\\\n\"\"\").replaceAll(\"'\",\"\"\"\\\\'\"\"\")\n",
    "def message(s:String) = publish.javascript(\"$('#output').text(now()+'\\\\n\"+clean(s)+\"')\")"
   ]
  },
  {
   "cell_type": "code",
   "execution_count": 2,
   "metadata": {},
   "outputs": [
    {
     "data": {
      "text/plain": [
       "\u001b[36maction\u001b[39m: \u001b[32mString\u001b[39m = \u001b[32m\"create\"\u001b[39m\n",
       "\u001b[36mdebug\u001b[39m: \u001b[32mBoolean\u001b[39m = \u001b[32mfalse\u001b[39m"
      ]
     },
     "execution_count": 2,
     "metadata": {},
     "output_type": "execute_result"
    }
   ],
   "source": [
    "val action=\"create\"\n",
    "val debug=false"
   ]
  },
  {
   "cell_type": "code",
   "execution_count": 3,
   "metadata": {},
   "outputs": [
    {
     "data": {
      "text/plain": [
       "\u001b[36mstackName\u001b[39m: \u001b[32mString\u001b[39m = \u001b[32m\"test\"\u001b[39m\n",
       "\u001b[36mregion\u001b[39m: \u001b[32mString\u001b[39m = \u001b[32m\"us-east-1\"\u001b[39m\n",
       "\u001b[36mimageId\u001b[39m: \u001b[32mString\u001b[39m = \u001b[32m\"ami-a50d85b3\"\u001b[39m\n",
       "\u001b[36minstanceType\u001b[39m: \u001b[32mString\u001b[39m = \u001b[32m\"t2.small\"\u001b[39m\n",
       "\u001b[36mkeyName\u001b[39m: \u001b[32mString\u001b[39m = \u001b[32m\"atomic\"\u001b[39m\n",
       "\u001b[36mtemplate\u001b[39m: \u001b[32mPath\u001b[39m = /Users/msciab/Dropbox/Work/MacBookPro/MicheleSciabarra/Mosaico/cloud/conf/cloudformation.yml"
      ]
     },
     "execution_count": 3,
     "metadata": {},
     "output_type": "execute_result"
    }
   ],
   "source": [
    "// options\n",
    "val stackName = \"test\"\n",
    "val region = \"us-east-1\"\n",
    "//val imageId = \"ami-ae7bfdb8\" //centos standard\n",
    "val imageId = \"ami-a50d85b3\" // atomic host\n",
    "val instanceType = \"t2.small\"\n",
    "val keyName = \"atomic\"\n",
    "val template = pwd/'conf/\"cloudformation.yml\""
   ]
  },
  {
   "cell_type": "code",
   "execution_count": 4,
   "metadata": {},
   "outputs": [
    {
     "data": {
      "text/plain": [
       "\u001b[32mimport \u001b[39m\u001b[36m$ivy.$                                   \u001b[39m"
      ]
     },
     "execution_count": 4,
     "metadata": {},
     "output_type": "execute_result"
    }
   ],
   "source": [
    "import $ivy.`com.amazonaws:aws-java-sdk:1.11.22`"
   ]
  },
  {
   "cell_type": "code",
   "execution_count": 5,
   "metadata": {},
   "outputs": [
    {
     "data": {
      "text/plain": [
       "\u001b[32mimport \u001b[39m\u001b[36mcom.amazonaws.services.cloudformation.model._\n",
       "\u001b[39m\n",
       "\u001b[32mimport \u001b[39m\u001b[36mcollection.JavaConverters._\n",
       "\n",
       "\u001b[39m\n",
       "\u001b[36mcreate\u001b[39m: \u001b[32mBoolean\u001b[39m = \u001b[32mtrue\u001b[39m\n",
       "\u001b[36mremove\u001b[39m: \u001b[32mBoolean\u001b[39m = \u001b[32mfalse\u001b[39m\n",
       "\u001b[36msuspend\u001b[39m: \u001b[32mBoolean\u001b[39m = \u001b[32mfalse\u001b[39m\n",
       "\u001b[36mresume\u001b[39m: \u001b[32mBoolean\u001b[39m = \u001b[32mfalse\u001b[39m\n",
       "\u001b[36mdescribe\u001b[39m: \u001b[32mBoolean\u001b[39m = \u001b[32mfalse\u001b[39m"
      ]
     },
     "execution_count": 5,
     "metadata": {},
     "output_type": "execute_result"
    }
   ],
   "source": [
    "import com.amazonaws.services.cloudformation.model._\n",
    "import collection.JavaConverters._\n",
    "\n",
    "val create  = action  == \"create\"\n",
    "val remove  = action  == \"remove\"\n",
    "val suspend = action  == \"suspend\"\n",
    "val resume  = action  == \"resume\"\n",
    "val describe = action  == \"describe\""
   ]
  },
  {
   "cell_type": "code",
   "execution_count": 6,
   "metadata": {},
   "outputs": [
    {
     "data": {
      "text/plain": [
       "\u001b[32mimport \u001b[39m\u001b[36mcom.amazonaws.services._\n",
       "\u001b[39m\n",
       "\u001b[32mimport \u001b[39m\u001b[36mcom.amazonaws.services.cloudformation._\n",
       "\n",
       "\u001b[39m\n",
       "\u001b[36mcf\u001b[39m: \u001b[32mcom\u001b[39m.\u001b[32mamazonaws\u001b[39m.\u001b[32mservices\u001b[39m.\u001b[32mcloudformation\u001b[39m.\u001b[32mAmazonCloudFormationClient\u001b[39m = com.amazonaws.services.cloudformation.AmazonCloudFormationClient@c722cc1\n",
       "defined \u001b[32mfunction\u001b[39m \u001b[36mstatus\u001b[39m\n",
       "defined \u001b[32mfunction\u001b[39m \u001b[36mstatusLoop\u001b[39m"
      ]
     },
     "execution_count": 6,
     "metadata": {},
     "output_type": "execute_result"
    }
   ],
   "source": [
    "import com.amazonaws.services._\n",
    "import com.amazonaws.services.cloudformation._\n",
    "\n",
    "val cf = new AmazonCloudFormationClient() \n",
    "def status = {\n",
    "    val stack = cf.describeStacks\n",
    "        .getStacks.asScala\n",
    "        .filter( _.getStackName == stackName).headOption\n",
    "    stack.map(_.getStackStatus)\n",
    "}\n",
    "def statusLoop {\n",
    "    val st = status\n",
    "    message(st.getOrElse(\"-\"))\n",
    "    if(st.nonEmpty && st.get.endsWith(\"_IN_PROGRESS\")) {\n",
    "        Thread.sleep(1000)\n",
    "        statusLoop\n",
    "    }\n",
    "}"
   ]
  },
  {
   "cell_type": "markdown",
   "metadata": {},
   "source": [
    "## Creation"
   ]
  },
  {
   "cell_type": "code",
   "execution_count": null,
   "metadata": {},
   "outputs": [
    {
     "data": {},
     "metadata": {},
     "output_type": "display_data"
    },
    {
     "data": {},
     "metadata": {},
     "output_type": "display_data"
    },
    {
     "data": {},
     "metadata": {},
     "output_type": "display_data"
    },
    {
     "data": {},
     "metadata": {},
     "output_type": "display_data"
    },
    {
     "data": {},
     "metadata": {},
     "output_type": "display_data"
    },
    {
     "data": {},
     "metadata": {},
     "output_type": "display_data"
    },
    {
     "data": {},
     "metadata": {},
     "output_type": "display_data"
    },
    {
     "data": {},
     "metadata": {},
     "output_type": "display_data"
    },
    {
     "data": {},
     "metadata": {},
     "output_type": "display_data"
    },
    {
     "data": {},
     "metadata": {},
     "output_type": "display_data"
    },
    {
     "data": {},
     "metadata": {},
     "output_type": "display_data"
    },
    {
     "data": {},
     "metadata": {},
     "output_type": "display_data"
    },
    {
     "data": {},
     "metadata": {},
     "output_type": "display_data"
    },
    {
     "data": {},
     "metadata": {},
     "output_type": "display_data"
    },
    {
     "data": {},
     "metadata": {},
     "output_type": "display_data"
    },
    {
     "data": {},
     "metadata": {},
     "output_type": "display_data"
    },
    {
     "data": {},
     "metadata": {},
     "output_type": "display_data"
    },
    {
     "data": {},
     "metadata": {},
     "output_type": "display_data"
    },
    {
     "data": {},
     "metadata": {},
     "output_type": "display_data"
    },
    {
     "data": {},
     "metadata": {},
     "output_type": "display_data"
    },
    {
     "data": {},
     "metadata": {},
     "output_type": "display_data"
    },
    {
     "data": {},
     "metadata": {},
     "output_type": "display_data"
    },
    {
     "data": {},
     "metadata": {},
     "output_type": "display_data"
    },
    {
     "data": {},
     "metadata": {},
     "output_type": "display_data"
    },
    {
     "data": {},
     "metadata": {},
     "output_type": "display_data"
    },
    {
     "data": {},
     "metadata": {},
     "output_type": "display_data"
    },
    {
     "data": {},
     "metadata": {},
     "output_type": "display_data"
    },
    {
     "data": {},
     "metadata": {},
     "output_type": "display_data"
    },
    {
     "data": {},
     "metadata": {},
     "output_type": "display_data"
    },
    {
     "data": {},
     "metadata": {},
     "output_type": "display_data"
    },
    {
     "data": {},
     "metadata": {},
     "output_type": "display_data"
    },
    {
     "data": {},
     "metadata": {},
     "output_type": "display_data"
    },
    {
     "data": {},
     "metadata": {},
     "output_type": "display_data"
    },
    {
     "data": {},
     "metadata": {},
     "output_type": "display_data"
    },
    {
     "data": {},
     "metadata": {},
     "output_type": "display_data"
    },
    {
     "data": {},
     "metadata": {},
     "output_type": "display_data"
    },
    {
     "data": {},
     "metadata": {},
     "output_type": "display_data"
    },
    {
     "data": {},
     "metadata": {},
     "output_type": "display_data"
    },
    {
     "data": {},
     "metadata": {},
     "output_type": "display_data"
    },
    {
     "data": {},
     "metadata": {},
     "output_type": "display_data"
    },
    {
     "data": {},
     "metadata": {},
     "output_type": "display_data"
    },
    {
     "data": {},
     "metadata": {},
     "output_type": "display_data"
    },
    {
     "data": {},
     "metadata": {},
     "output_type": "display_data"
    },
    {
     "data": {},
     "metadata": {},
     "output_type": "display_data"
    },
    {
     "data": {},
     "metadata": {},
     "output_type": "display_data"
    },
    {
     "data": {},
     "metadata": {},
     "output_type": "display_data"
    },
    {
     "data": {},
     "metadata": {},
     "output_type": "display_data"
    },
    {
     "data": {},
     "metadata": {},
     "output_type": "display_data"
    },
    {
     "data": {},
     "metadata": {},
     "output_type": "display_data"
    },
    {
     "data": {},
     "metadata": {},
     "output_type": "display_data"
    },
    {
     "data": {},
     "metadata": {},
     "output_type": "display_data"
    },
    {
     "data": {},
     "metadata": {},
     "output_type": "display_data"
    },
    {
     "data": {},
     "metadata": {},
     "output_type": "display_data"
    },
    {
     "data": {},
     "metadata": {},
     "output_type": "display_data"
    },
    {
     "data": {},
     "metadata": {},
     "output_type": "display_data"
    },
    {
     "data": {},
     "metadata": {},
     "output_type": "display_data"
    },
    {
     "data": {},
     "metadata": {},
     "output_type": "display_data"
    },
    {
     "data": {},
     "metadata": {},
     "output_type": "display_data"
    },
    {
     "data": {},
     "metadata": {},
     "output_type": "display_data"
    },
    {
     "data": {},
     "metadata": {},
     "output_type": "display_data"
    },
    {
     "data": {},
     "metadata": {},
     "output_type": "display_data"
    },
    {
     "data": {},
     "metadata": {},
     "output_type": "display_data"
    },
    {
     "data": {},
     "metadata": {},
     "output_type": "display_data"
    },
    {
     "data": {},
     "metadata": {},
     "output_type": "display_data"
    },
    {
     "data": {},
     "metadata": {},
     "output_type": "display_data"
    },
    {
     "data": {},
     "metadata": {},
     "output_type": "display_data"
    },
    {
     "data": {},
     "metadata": {},
     "output_type": "display_data"
    },
    {
     "data": {},
     "metadata": {},
     "output_type": "display_data"
    },
    {
     "data": {},
     "metadata": {},
     "output_type": "display_data"
    },
    {
     "data": {},
     "metadata": {},
     "output_type": "display_data"
    },
    {
     "data": {},
     "metadata": {},
     "output_type": "display_data"
    },
    {
     "data": {},
     "metadata": {},
     "output_type": "display_data"
    },
    {
     "data": {},
     "metadata": {},
     "output_type": "display_data"
    },
    {
     "data": {},
     "metadata": {},
     "output_type": "display_data"
    },
    {
     "data": {},
     "metadata": {},
     "output_type": "display_data"
    },
    {
     "data": {},
     "metadata": {},
     "output_type": "display_data"
    },
    {
     "data": {},
     "metadata": {},
     "output_type": "display_data"
    },
    {
     "data": {},
     "metadata": {},
     "output_type": "display_data"
    },
    {
     "data": {},
     "metadata": {},
     "output_type": "display_data"
    },
    {
     "data": {},
     "metadata": {},
     "output_type": "display_data"
    },
    {
     "data": {},
     "metadata": {},
     "output_type": "display_data"
    },
    {
     "data": {},
     "metadata": {},
     "output_type": "display_data"
    },
    {
     "data": {},
     "metadata": {},
     "output_type": "display_data"
    },
    {
     "data": {},
     "metadata": {},
     "output_type": "display_data"
    },
    {
     "data": {},
     "metadata": {},
     "output_type": "display_data"
    },
    {
     "data": {},
     "metadata": {},
     "output_type": "display_data"
    },
    {
     "data": {},
     "metadata": {},
     "output_type": "display_data"
    },
    {
     "data": {},
     "metadata": {},
     "output_type": "display_data"
    },
    {
     "data": {},
     "metadata": {},
     "output_type": "display_data"
    },
    {
     "data": {},
     "metadata": {},
     "output_type": "display_data"
    },
    {
     "data": {},
     "metadata": {},
     "output_type": "display_data"
    },
    {
     "data": {},
     "metadata": {},
     "output_type": "display_data"
    },
    {
     "data": {},
     "metadata": {},
     "output_type": "display_data"
    },
    {
     "data": {},
     "metadata": {},
     "output_type": "display_data"
    },
    {
     "data": {},
     "metadata": {},
     "output_type": "display_data"
    },
    {
     "data": {},
     "metadata": {},
     "output_type": "display_data"
    },
    {
     "data": {},
     "metadata": {},
     "output_type": "display_data"
    },
    {
     "data": {},
     "metadata": {},
     "output_type": "display_data"
    },
    {
     "data": {},
     "metadata": {},
     "output_type": "display_data"
    },
    {
     "data": {},
     "metadata": {},
     "output_type": "display_data"
    },
    {
     "data": {},
     "metadata": {},
     "output_type": "display_data"
    },
    {
     "data": {},
     "metadata": {},
     "output_type": "display_data"
    },
    {
     "data": {},
     "metadata": {},
     "output_type": "display_data"
    },
    {
     "data": {},
     "metadata": {},
     "output_type": "display_data"
    },
    {
     "data": {},
     "metadata": {},
     "output_type": "display_data"
    },
    {
     "data": {},
     "metadata": {},
     "output_type": "display_data"
    },
    {
     "data": {},
     "metadata": {},
     "output_type": "display_data"
    },
    {
     "data": {},
     "metadata": {},
     "output_type": "display_data"
    },
    {
     "data": {},
     "metadata": {},
     "output_type": "display_data"
    },
    {
     "data": {},
     "metadata": {},
     "output_type": "display_data"
    },
    {
     "data": {},
     "metadata": {},
     "output_type": "display_data"
    },
    {
     "data": {},
     "metadata": {},
     "output_type": "display_data"
    },
    {
     "data": {},
     "metadata": {},
     "output_type": "display_data"
    },
    {
     "data": {},
     "metadata": {},
     "output_type": "display_data"
    },
    {
     "data": {},
     "metadata": {},
     "output_type": "display_data"
    },
    {
     "data": {},
     "metadata": {},
     "output_type": "display_data"
    },
    {
     "data": {},
     "metadata": {},
     "output_type": "display_data"
    },
    {
     "data": {},
     "metadata": {},
     "output_type": "display_data"
    },
    {
     "data": {},
     "metadata": {},
     "output_type": "display_data"
    },
    {
     "data": {},
     "metadata": {},
     "output_type": "display_data"
    },
    {
     "data": {},
     "metadata": {},
     "output_type": "display_data"
    },
    {
     "data": {},
     "metadata": {},
     "output_type": "display_data"
    },
    {
     "data": {},
     "metadata": {},
     "output_type": "display_data"
    },
    {
     "data": {},
     "metadata": {},
     "output_type": "display_data"
    },
    {
     "data": {},
     "metadata": {},
     "output_type": "display_data"
    },
    {
     "data": {},
     "metadata": {},
     "output_type": "display_data"
    },
    {
     "data": {},
     "metadata": {},
     "output_type": "display_data"
    },
    {
     "data": {},
     "metadata": {},
     "output_type": "display_data"
    },
    {
     "data": {},
     "metadata": {},
     "output_type": "display_data"
    },
    {
     "data": {},
     "metadata": {},
     "output_type": "display_data"
    },
    {
     "data": {},
     "metadata": {},
     "output_type": "display_data"
    },
    {
     "data": {},
     "metadata": {},
     "output_type": "display_data"
    },
    {
     "data": {},
     "metadata": {},
     "output_type": "display_data"
    },
    {
     "data": {},
     "metadata": {},
     "output_type": "display_data"
    },
    {
     "data": {},
     "metadata": {},
     "output_type": "display_data"
    },
    {
     "data": {},
     "metadata": {},
     "output_type": "display_data"
    },
    {
     "data": {},
     "metadata": {},
     "output_type": "display_data"
    },
    {
     "data": {},
     "metadata": {},
     "output_type": "display_data"
    },
    {
     "data": {},
     "metadata": {},
     "output_type": "display_data"
    },
    {
     "data": {},
     "metadata": {},
     "output_type": "display_data"
    },
    {
     "data": {},
     "metadata": {},
     "output_type": "display_data"
    },
    {
     "data": {},
     "metadata": {},
     "output_type": "display_data"
    },
    {
     "data": {},
     "metadata": {},
     "output_type": "display_data"
    },
    {
     "data": {},
     "metadata": {},
     "output_type": "display_data"
    },
    {
     "data": {},
     "metadata": {},
     "output_type": "display_data"
    },
    {
     "data": {},
     "metadata": {},
     "output_type": "display_data"
    },
    {
     "data": {},
     "metadata": {},
     "output_type": "display_data"
    },
    {
     "data": {},
     "metadata": {},
     "output_type": "display_data"
    },
    {
     "data": {},
     "metadata": {},
     "output_type": "display_data"
    },
    {
     "data": {},
     "metadata": {},
     "output_type": "display_data"
    },
    {
     "data": {},
     "metadata": {},
     "output_type": "display_data"
    },
    {
     "data": {},
     "metadata": {},
     "output_type": "display_data"
    },
    {
     "data": {},
     "metadata": {},
     "output_type": "display_data"
    },
    {
     "data": {},
     "metadata": {},
     "output_type": "display_data"
    },
    {
     "data": {},
     "metadata": {},
     "output_type": "display_data"
    },
    {
     "data": {},
     "metadata": {},
     "output_type": "display_data"
    },
    {
     "data": {},
     "metadata": {},
     "output_type": "display_data"
    },
    {
     "data": {},
     "metadata": {},
     "output_type": "display_data"
    },
    {
     "data": {},
     "metadata": {},
     "output_type": "display_data"
    },
    {
     "data": {},
     "metadata": {},
     "output_type": "display_data"
    },
    {
     "data": {},
     "metadata": {},
     "output_type": "display_data"
    },
    {
     "data": {},
     "metadata": {},
     "output_type": "display_data"
    },
    {
     "data": {},
     "metadata": {},
     "output_type": "display_data"
    },
    {
     "data": {},
     "metadata": {},
     "output_type": "display_data"
    },
    {
     "data": {},
     "metadata": {},
     "output_type": "display_data"
    },
    {
     "data": {},
     "metadata": {},
     "output_type": "display_data"
    },
    {
     "data": {},
     "metadata": {},
     "output_type": "display_data"
    },
    {
     "data": {},
     "metadata": {},
     "output_type": "display_data"
    },
    {
     "data": {},
     "metadata": {},
     "output_type": "display_data"
    },
    {
     "data": {},
     "metadata": {},
     "output_type": "display_data"
    },
    {
     "data": {},
     "metadata": {},
     "output_type": "display_data"
    },
    {
     "data": {},
     "metadata": {},
     "output_type": "display_data"
    },
    {
     "data": {},
     "metadata": {},
     "output_type": "display_data"
    },
    {
     "data": {},
     "metadata": {},
     "output_type": "display_data"
    },
    {
     "data": {},
     "metadata": {},
     "output_type": "display_data"
    },
    {
     "data": {},
     "metadata": {},
     "output_type": "display_data"
    },
    {
     "data": {},
     "metadata": {},
     "output_type": "display_data"
    },
    {
     "data": {},
     "metadata": {},
     "output_type": "display_data"
    },
    {
     "data": {},
     "metadata": {},
     "output_type": "display_data"
    },
    {
     "data": {},
     "metadata": {},
     "output_type": "display_data"
    },
    {
     "data": {},
     "metadata": {},
     "output_type": "display_data"
    },
    {
     "data": {},
     "metadata": {},
     "output_type": "display_data"
    },
    {
     "data": {},
     "metadata": {},
     "output_type": "display_data"
    },
    {
     "data": {},
     "metadata": {},
     "output_type": "display_data"
    }
   ],
   "source": [
    "// read template\n",
    "import scala.io._\n",
    "import com.amazonaws.services.cloudformation.model._\n",
    "\n",
    "val cf = new cloudformation.AmazonCloudFormationClient\n",
    "\n",
    "// create\n",
    "def createRequest() = {\n",
    "    import com.amazonaws.services.cloudformation._\n",
    "    import com.amazonaws.services.cloudformation.model._\n",
    "    val cfr = new CreateStackRequest()\n",
    "    cfr.setStackName(stackName)\n",
    "    val params =  Seq(\n",
    "      new Parameter().withParameterKey(\"KeyName\").withParameterValue(keyName),\n",
    "      new Parameter().withParameterKey(\"InstanceType\").withParameterValue(instanceType),\n",
    "      new Parameter().withParameterKey(\"ImageId\").withParameterValue(imageId)    \n",
    "    ) \n",
    "    cfr.setParameters(params.asJava)\n",
    "    cfr\n",
    "}\n",
    "\n",
    "if(create) {\n",
    "    val cfr = createRequest()\n",
    "    val body = Source.fromFile(template.toString).getLines.mkString(\"\\n\")\n",
    "    cfr.setTemplateBody(body)\n",
    "    // run request\n",
    "    val res = cf.createStack(cfr)\n",
    "    statusLoop\n",
    "}"
   ]
  },
  {
   "cell_type": "markdown",
   "metadata": {},
   "source": [
    "## Remove"
   ]
  },
  {
   "cell_type": "code",
   "execution_count": null,
   "metadata": {
    "collapsed": true
   },
   "outputs": [],
   "source": [
    "// remove\n",
    "def removeRequest() = \n",
    "    new DeleteStackRequest().withStackName(stackName)\n",
    "\n",
    "if(remove) { \n",
    "    cf.deleteStack(removeRequest())\n",
    "    statusLoop\n",
    "}\n",
    "//removeRequest()"
   ]
  },
  {
   "cell_type": "markdown",
   "metadata": {},
   "source": [
    "# Describe"
   ]
  },
  {
   "cell_type": "code",
   "execution_count": null,
   "metadata": {
    "collapsed": true,
    "scrolled": true
   },
   "outputs": [],
   "source": [
    "import com.amazonaws.services.ec2._\n",
    "import com.amazonaws.regions.{Region,Regions}\n",
    "\n",
    "val ec2 = new AmazonEC2Client()\n",
    "val regions = Regions.fromName(region)\n",
    "ec2.setRegion(Region.getRegion(regions))"
   ]
  },
  {
   "cell_type": "code",
   "execution_count": null,
   "metadata": {
    "collapsed": true
   },
   "outputs": [],
   "source": [
    "import collection.JavaConverters._\n",
    "\n",
    "val instances = for {\n",
    " reservation <- ec2.describeInstances.getReservations.asScala\n",
    " instance <- reservation.getInstances.asScala\n",
    "} yield {\n",
    "    instance\n",
    "}"
   ]
  },
  {
   "cell_type": "code",
   "execution_count": null,
   "metadata": {
    "collapsed": true
   },
   "outputs": [],
   "source": [
    "import com.amazonaws.services.ec2.model._\n",
    "import collection.JavaConverters._\n",
    "\n",
    "if(suspend) {\n",
    "    val ids = instances.filter(_.getState.getName == \"running\").map(_.getInstanceId)\n",
    "    ec2.stopInstances(new StopInstancesRequest(ids.asJava))\n",
    "    message(\"SUSPENDING\")\n",
    "}\n",
    "\n",
    "if(resume) {\n",
    "     val stopped = instances.filter(_.getState.getName == \"stopped\").map(_.getInstanceId)\n",
    "     ec2.startInstances(new StartInstancesRequest(stopped.asJava))\n",
    "     message(\"RESUMING\")\n",
    "} \n",
    "\n",
    "def instName(inst: Instance) = inst.getTags.asScala.filter(_.getKey==\"Name\").map(_.getValue).headOption\n",
    "\n",
    "if(describe) {\n",
    "   val msg = instances.map { instance =>\n",
    "         s\"\"\"id=${instance.getInstanceId} \n",
    "state=${instance.getState.getName} \n",
    "name=${instName(instance)} \n",
    "privateIp=${instance.getPrivateIpAddress}\n",
    "publicIp=${instance.getPublicIpAddress}\n",
    "----------\"\"\"\n",
    "     }\n",
    "    \n",
    "    message(msg.mkString(\"\\n\"))\n",
    "}"
   ]
  }
 ],
 "metadata": {
  "kernelspec": {
   "display_name": "Scala",
   "language": "scala",
   "name": "scala"
  },
  "language_info": {
   "codemirror_mode": "text/x-scala",
   "file_extension": ".scala",
   "mimetype": "text/x-scala",
   "name": "scala211",
   "nbconvert_exporter": "script",
   "pygments_lexer": "scala",
   "version": "2.11.8"
  }
 },
 "nbformat": 4,
 "nbformat_minor": 0
}