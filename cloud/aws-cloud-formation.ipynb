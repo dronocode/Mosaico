{
 "cells": [
  {
   "cell_type": "code",
   "execution_count": 15,
   "metadata": {},
   "outputs": [
    {
     "data": {
      "text/html": [
       "\n",
       "Cloud Formation:\n",
       "<select id='action'>\n",
       " <option value=\"none\" selected>none</option>\n",
       " <option value=\"create\" >create</option>\n",
       " <option value=\"remove\">remove</option>\n",
       " <option value=\"suspend\">suspend</option>\n",
       " <option value=\"resume\">resume</option>\n",
       "</select>\n",
       "<button id=\"run\">Run</button>\n",
       "<br><div id='output'></div>\n"
      ]
     },
     "metadata": {},
     "output_type": "display_data"
    }
   ],
   "source": [
    "publish.html(\"\"\"\n",
    "Cloud Formation:\n",
    "<select id='action'>\n",
    " <option value=\"none\" selected>none</option>\n",
    " <option value=\"create\" >create</option>\n",
    " <option value=\"remove\">remove</option>\n",
    " <option value=\"suspend\">suspend</option>\n",
    " <option value=\"resume\">resume</option>\n",
    "</select>\n",
    "<button id=\"run\">Run</button>\n",
    "<br><div id='output'></div>\n",
    "\"\"\")"
   ]
  },
  {
   "cell_type": "code",
   "execution_count": 16,
   "metadata": {},
   "outputs": [
    {
     "data": {
      "application/javascript": [
       "\n",
       "  window.now = function() { \n",
       "     var time = new Date(); \n",
       "     return time.getHours()+\":\"+time.getMinutes()+\":\"+time.getSeconds() \n",
       "  }\n",
       "  $(\"#run\").off(\"click\")\n",
       "  $(\"#run\").on(\"click\", function(data) {\n",
       "  var data = \"val action=\\\"\"+$(\"#action\").val()+\"\\\"\\nval debug=false\"\n",
       "  IPython.notebook.get_cell(2).code_mirror.setValue(data) \n",
       "  IPython.notebook.select(2)\n",
       "  IPython.notebook.execute_cells_below()\n",
       "})\n"
      ]
     },
     "metadata": {},
     "output_type": "display_data"
    },
    {
     "data": {
      "text/plain": [
       "defined \u001b[32mfunction\u001b[39m \u001b[36mmessage\u001b[39m"
      ]
     },
     "execution_count": 16,
     "metadata": {},
     "output_type": "execute_result"
    }
   ],
   "source": [
    "publish.javascript(\"\"\"\n",
    "  window.now = function() { \n",
    "     var time = new Date(); \n",
    "     return time.getHours()+\":\"+time.getMinutes()+\":\"+time.getSeconds() \n",
    "  }\n",
    "  $(\"#run\").off(\"click\")\n",
    "  $(\"#run\").on(\"click\", function(data) {\n",
    "  var data = \"val action=\\\"\"+$(\"#action\").val()+\"\\\"\\nval debug=false\"\n",
    "  IPython.notebook.get_cell(2).code_mirror.setValue(data) \n",
    "  IPython.notebook.select(2)\n",
    "  IPython.notebook.execute_cells_below()\n",
    "})\n",
    "\"\"\")\n",
    "def message(s:String) = publish.javascript(\"$('#output').text(now()+' \"+s+\"')\")\n"
   ]
  },
  {
   "cell_type": "code",
   "execution_count": 24,
   "metadata": {},
   "outputs": [
    {
     "data": {
      "text/plain": [
       "\u001b[36maction\u001b[39m: \u001b[32mString\u001b[39m = \u001b[32m\"create\"\u001b[39m\n",
       "\u001b[36mdebug\u001b[39m: \u001b[32mBoolean\u001b[39m = \u001b[32mfalse\u001b[39m"
      ]
     },
     "execution_count": 24,
     "metadata": {},
     "output_type": "execute_result"
    }
   ],
   "source": [
    "val action=\"create\"\n",
    "val debug=false"
   ]
  },
  {
   "cell_type": "code",
   "execution_count": 25,
   "metadata": {},
   "outputs": [
    {
     "data": {
      "text/plain": [
       "\u001b[32mimport \u001b[39m\u001b[36mammonite.ops._\n",
       "\n",
       "\u001b[39m\n",
       "\u001b[36mstackName\u001b[39m: \u001b[32mString\u001b[39m = \u001b[32m\"test\"\u001b[39m\n",
       "\u001b[36mregion\u001b[39m: \u001b[32mString\u001b[39m = \u001b[32m\"us-east-1\"\u001b[39m\n",
       "\u001b[36mimageId\u001b[39m: \u001b[32mString\u001b[39m = \u001b[32m\"ami-10f53a06\"\u001b[39m\n",
       "\u001b[36minstanceType\u001b[39m: \u001b[32mString\u001b[39m = \u001b[32m\"t2.small\"\u001b[39m\n",
       "\u001b[36mkeyName\u001b[39m: \u001b[32mString\u001b[39m = \u001b[32m\"atomic\"\u001b[39m\n",
       "\u001b[36mtemplate\u001b[39m: \u001b[32mPath\u001b[39m = /Users/msciab/Dropbox/Work/MacBookPro/MicheleSciabarra/Mosaico/cloud/aws/kubernetes.yml"
      ]
     },
     "execution_count": 25,
     "metadata": {},
     "output_type": "execute_result"
    }
   ],
   "source": [
    "// options\n",
    "import ammonite.ops._\n",
    "\n",
    "val stackName = \"test\"\n",
    "/// parameters\n",
    "// template is for us-east-1\n",
    "// change images for different regions\n",
    "val region = \"us-east-1\"\n",
    "val imageId = \"ami-10f53a06\"\n",
    "val instanceType = \"t2.small\"\n",
    "val keyName = \"atomic\"\n",
    "val template = pwd/'aws/\"kubernetes.yml\""
   ]
  },
  {
   "cell_type": "code",
   "execution_count": 26,
   "metadata": {},
   "outputs": [
    {
     "data": {
      "text/plain": [
       "\u001b[32mimport \u001b[39m\u001b[36m$ivy.$                                   \u001b[39m"
      ]
     },
     "execution_count": 26,
     "metadata": {},
     "output_type": "execute_result"
    }
   ],
   "source": [
    "import $ivy.`com.amazonaws:aws-java-sdk:1.11.22`"
   ]
  },
  {
   "cell_type": "code",
   "execution_count": 27,
   "metadata": {},
   "outputs": [
    {
     "data": {
      "text/plain": [
       "\u001b[32mimport \u001b[39m\u001b[36mcom.amazonaws.services.cloudformation.model._\n",
       "\u001b[39m\n",
       "\u001b[32mimport \u001b[39m\u001b[36mcollection.JavaConverters._\n",
       "\n",
       "\u001b[39m\n",
       "\u001b[36mcreate\u001b[39m: \u001b[32mBoolean\u001b[39m = \u001b[32mtrue\u001b[39m\n",
       "\u001b[36mremove\u001b[39m: \u001b[32mBoolean\u001b[39m = \u001b[32mfalse\u001b[39m\n",
       "\u001b[36msuspend\u001b[39m: \u001b[32mBoolean\u001b[39m = \u001b[32mfalse\u001b[39m\n",
       "\u001b[36mresume\u001b[39m: \u001b[32mBoolean\u001b[39m = \u001b[32mfalse\u001b[39m"
      ]
     },
     "execution_count": 27,
     "metadata": {},
     "output_type": "execute_result"
    }
   ],
   "source": [
    "import com.amazonaws.services.cloudformation.model._\n",
    "import collection.JavaConverters._\n",
    "\n",
    "val create  = action  == \"create\"\n",
    "val remove  = action  == \"remove\"\n",
    "val suspend = action  == \"suspend\"\n",
    "val resume  = action  == \"resume\""
   ]
  },
  {
   "cell_type": "code",
   "execution_count": 28,
   "metadata": {},
   "outputs": [
    {
     "data": {
      "text/plain": [
       "\u001b[32mimport \u001b[39m\u001b[36mcom.amazonaws.services._\n",
       "\u001b[39m\n",
       "\u001b[32mimport \u001b[39m\u001b[36mcom.amazonaws.services.cloudformation._\n",
       "\n",
       "\u001b[39m\n",
       "\u001b[36mcf\u001b[39m: \u001b[32mAmazonCloudFormationClient\u001b[39m = com.amazonaws.services.cloudformation.AmazonCloudFormationClient@27abdc13\n",
       "defined \u001b[32mfunction\u001b[39m \u001b[36mstatus\u001b[39m\n",
       "defined \u001b[32mfunction\u001b[39m \u001b[36mstatusLoop\u001b[39m"
      ]
     },
     "execution_count": 28,
     "metadata": {},
     "output_type": "execute_result"
    }
   ],
   "source": [
    "import com.amazonaws.services._\n",
    "import com.amazonaws.services.cloudformation._\n",
    "\n",
    "val cf = new AmazonCloudFormationClient() \n",
    "def status = {\n",
    "    val stack = cf.describeStacks\n",
    "        .getStacks.asScala\n",
    "        .filter( _.getStackName == stackName).headOption\n",
    "    stack.map(_.getStackStatus)\n",
    "}\n",
    "def statusLoop {\n",
    "    val st = status\n",
    "    message(st.getOrElse(\"-\"))\n",
    "    if(st.nonEmpty && st.get.endsWith(\"_IN_PROGRESS\")) {\n",
    "        Thread.sleep(1000)\n",
    "        statusLoop\n",
    "    }\n",
    "}"
   ]
  },
  {
   "cell_type": "markdown",
   "metadata": {},
   "source": [
    "## Creation"
   ]
  },
  {
   "cell_type": "code",
   "execution_count": 29,
   "metadata": {},
   "outputs": [
    {
     "data": {
      "application/javascript": [
       "$('#output').text(now()+' CREATE_IN_PROGRESS')"
      ]
     },
     "metadata": {},
     "output_type": "display_data"
    },
    {
     "data": {
      "application/javascript": [
       "$('#output').text(now()+' CREATE_IN_PROGRESS')"
      ]
     },
     "metadata": {},
     "output_type": "display_data"
    },
    {
     "data": {
      "application/javascript": [
       "$('#output').text(now()+' CREATE_IN_PROGRESS')"
      ]
     },
     "metadata": {},
     "output_type": "display_data"
    },
    {
     "data": {
      "application/javascript": [
       "$('#output').text(now()+' CREATE_IN_PROGRESS')"
      ]
     },
     "metadata": {},
     "output_type": "display_data"
    },
    {
     "data": {
      "application/javascript": [
       "$('#output').text(now()+' CREATE_IN_PROGRESS')"
      ]
     },
     "metadata": {},
     "output_type": "display_data"
    },
    {
     "data": {
      "application/javascript": [
       "$('#output').text(now()+' CREATE_IN_PROGRESS')"
      ]
     },
     "metadata": {},
     "output_type": "display_data"
    },
    {
     "data": {
      "application/javascript": [
       "$('#output').text(now()+' CREATE_IN_PROGRESS')"
      ]
     },
     "metadata": {},
     "output_type": "display_data"
    },
    {
     "data": {
      "application/javascript": [
       "$('#output').text(now()+' CREATE_IN_PROGRESS')"
      ]
     },
     "metadata": {},
     "output_type": "display_data"
    },
    {
     "data": {
      "application/javascript": [
       "$('#output').text(now()+' CREATE_IN_PROGRESS')"
      ]
     },
     "metadata": {},
     "output_type": "display_data"
    },
    {
     "data": {
      "application/javascript": [
       "$('#output').text(now()+' CREATE_IN_PROGRESS')"
      ]
     },
     "metadata": {},
     "output_type": "display_data"
    },
    {
     "data": {
      "application/javascript": [
       "$('#output').text(now()+' CREATE_IN_PROGRESS')"
      ]
     },
     "metadata": {},
     "output_type": "display_data"
    },
    {
     "data": {
      "application/javascript": [
       "$('#output').text(now()+' CREATE_IN_PROGRESS')"
      ]
     },
     "metadata": {},
     "output_type": "display_data"
    },
    {
     "data": {
      "application/javascript": [
       "$('#output').text(now()+' CREATE_IN_PROGRESS')"
      ]
     },
     "metadata": {},
     "output_type": "display_data"
    },
    {
     "data": {
      "application/javascript": [
       "$('#output').text(now()+' CREATE_IN_PROGRESS')"
      ]
     },
     "metadata": {},
     "output_type": "display_data"
    },
    {
     "data": {
      "application/javascript": [
       "$('#output').text(now()+' CREATE_IN_PROGRESS')"
      ]
     },
     "metadata": {},
     "output_type": "display_data"
    },
    {
     "data": {
      "application/javascript": [
       "$('#output').text(now()+' CREATE_IN_PROGRESS')"
      ]
     },
     "metadata": {},
     "output_type": "display_data"
    },
    {
     "data": {
      "application/javascript": [
       "$('#output').text(now()+' CREATE_IN_PROGRESS')"
      ]
     },
     "metadata": {},
     "output_type": "display_data"
    },
    {
     "data": {
      "application/javascript": [
       "$('#output').text(now()+' CREATE_IN_PROGRESS')"
      ]
     },
     "metadata": {},
     "output_type": "display_data"
    },
    {
     "data": {
      "application/javascript": [
       "$('#output').text(now()+' CREATE_IN_PROGRESS')"
      ]
     },
     "metadata": {},
     "output_type": "display_data"
    },
    {
     "data": {
      "application/javascript": [
       "$('#output').text(now()+' CREATE_IN_PROGRESS')"
      ]
     },
     "metadata": {},
     "output_type": "display_data"
    },
    {
     "data": {
      "application/javascript": [
       "$('#output').text(now()+' CREATE_IN_PROGRESS')"
      ]
     },
     "metadata": {},
     "output_type": "display_data"
    },
    {
     "data": {
      "application/javascript": [
       "$('#output').text(now()+' CREATE_IN_PROGRESS')"
      ]
     },
     "metadata": {},
     "output_type": "display_data"
    },
    {
     "data": {
      "application/javascript": [
       "$('#output').text(now()+' CREATE_IN_PROGRESS')"
      ]
     },
     "metadata": {},
     "output_type": "display_data"
    },
    {
     "data": {
      "application/javascript": [
       "$('#output').text(now()+' CREATE_IN_PROGRESS')"
      ]
     },
     "metadata": {},
     "output_type": "display_data"
    },
    {
     "data": {
      "application/javascript": [
       "$('#output').text(now()+' CREATE_IN_PROGRESS')"
      ]
     },
     "metadata": {},
     "output_type": "display_data"
    },
    {
     "data": {
      "application/javascript": [
       "$('#output').text(now()+' CREATE_IN_PROGRESS')"
      ]
     },
     "metadata": {},
     "output_type": "display_data"
    },
    {
     "data": {
      "application/javascript": [
       "$('#output').text(now()+' CREATE_IN_PROGRESS')"
      ]
     },
     "metadata": {},
     "output_type": "display_data"
    },
    {
     "data": {
      "application/javascript": [
       "$('#output').text(now()+' CREATE_IN_PROGRESS')"
      ]
     },
     "metadata": {},
     "output_type": "display_data"
    },
    {
     "data": {
      "application/javascript": [
       "$('#output').text(now()+' CREATE_IN_PROGRESS')"
      ]
     },
     "metadata": {},
     "output_type": "display_data"
    },
    {
     "data": {
      "application/javascript": [
       "$('#output').text(now()+' CREATE_IN_PROGRESS')"
      ]
     },
     "metadata": {},
     "output_type": "display_data"
    },
    {
     "data": {
      "application/javascript": [
       "$('#output').text(now()+' CREATE_IN_PROGRESS')"
      ]
     },
     "metadata": {},
     "output_type": "display_data"
    },
    {
     "data": {
      "application/javascript": [
       "$('#output').text(now()+' CREATE_IN_PROGRESS')"
      ]
     },
     "metadata": {},
     "output_type": "display_data"
    },
    {
     "data": {
      "application/javascript": [
       "$('#output').text(now()+' CREATE_IN_PROGRESS')"
      ]
     },
     "metadata": {},
     "output_type": "display_data"
    },
    {
     "data": {
      "application/javascript": [
       "$('#output').text(now()+' CREATE_IN_PROGRESS')"
      ]
     },
     "metadata": {},
     "output_type": "display_data"
    },
    {
     "data": {
      "application/javascript": [
       "$('#output').text(now()+' CREATE_IN_PROGRESS')"
      ]
     },
     "metadata": {},
     "output_type": "display_data"
    },
    {
     "data": {
      "application/javascript": [
       "$('#output').text(now()+' CREATE_IN_PROGRESS')"
      ]
     },
     "metadata": {},
     "output_type": "display_data"
    },
    {
     "data": {
      "application/javascript": [
       "$('#output').text(now()+' CREATE_IN_PROGRESS')"
      ]
     },
     "metadata": {},
     "output_type": "display_data"
    },
    {
     "data": {
      "application/javascript": [
       "$('#output').text(now()+' CREATE_IN_PROGRESS')"
      ]
     },
     "metadata": {},
     "output_type": "display_data"
    },
    {
     "data": {
      "application/javascript": [
       "$('#output').text(now()+' CREATE_IN_PROGRESS')"
      ]
     },
     "metadata": {},
     "output_type": "display_data"
    },
    {
     "data": {
      "application/javascript": [
       "$('#output').text(now()+' CREATE_IN_PROGRESS')"
      ]
     },
     "metadata": {},
     "output_type": "display_data"
    },
    {
     "data": {
      "application/javascript": [
       "$('#output').text(now()+' CREATE_IN_PROGRESS')"
      ]
     },
     "metadata": {},
     "output_type": "display_data"
    },
    {
     "data": {
      "application/javascript": [
       "$('#output').text(now()+' CREATE_IN_PROGRESS')"
      ]
     },
     "metadata": {},
     "output_type": "display_data"
    },
    {
     "data": {
      "application/javascript": [
       "$('#output').text(now()+' CREATE_IN_PROGRESS')"
      ]
     },
     "metadata": {},
     "output_type": "display_data"
    },
    {
     "data": {
      "application/javascript": [
       "$('#output').text(now()+' CREATE_IN_PROGRESS')"
      ]
     },
     "metadata": {},
     "output_type": "display_data"
    },
    {
     "data": {
      "application/javascript": [
       "$('#output').text(now()+' CREATE_IN_PROGRESS')"
      ]
     },
     "metadata": {},
     "output_type": "display_data"
    },
    {
     "data": {
      "application/javascript": [
       "$('#output').text(now()+' CREATE_IN_PROGRESS')"
      ]
     },
     "metadata": {},
     "output_type": "display_data"
    },
    {
     "data": {
      "application/javascript": [
       "$('#output').text(now()+' CREATE_IN_PROGRESS')"
      ]
     },
     "metadata": {},
     "output_type": "display_data"
    },
    {
     "data": {
      "application/javascript": [
       "$('#output').text(now()+' CREATE_IN_PROGRESS')"
      ]
     },
     "metadata": {},
     "output_type": "display_data"
    },
    {
     "data": {
      "application/javascript": [
       "$('#output').text(now()+' CREATE_IN_PROGRESS')"
      ]
     },
     "metadata": {},
     "output_type": "display_data"
    },
    {
     "data": {
      "application/javascript": [
       "$('#output').text(now()+' CREATE_IN_PROGRESS')"
      ]
     },
     "metadata": {},
     "output_type": "display_data"
    },
    {
     "data": {
      "application/javascript": [
       "$('#output').text(now()+' CREATE_IN_PROGRESS')"
      ]
     },
     "metadata": {},
     "output_type": "display_data"
    },
    {
     "data": {
      "application/javascript": [
       "$('#output').text(now()+' CREATE_IN_PROGRESS')"
      ]
     },
     "metadata": {},
     "output_type": "display_data"
    },
    {
     "data": {
      "application/javascript": [
       "$('#output').text(now()+' CREATE_IN_PROGRESS')"
      ]
     },
     "metadata": {},
     "output_type": "display_data"
    },
    {
     "data": {
      "application/javascript": [
       "$('#output').text(now()+' CREATE_IN_PROGRESS')"
      ]
     },
     "metadata": {},
     "output_type": "display_data"
    },
    {
     "data": {
      "application/javascript": [
       "$('#output').text(now()+' CREATE_IN_PROGRESS')"
      ]
     },
     "metadata": {},
     "output_type": "display_data"
    },
    {
     "data": {
      "application/javascript": [
       "$('#output').text(now()+' CREATE_IN_PROGRESS')"
      ]
     },
     "metadata": {},
     "output_type": "display_data"
    },
    {
     "data": {
      "application/javascript": [
       "$('#output').text(now()+' CREATE_IN_PROGRESS')"
      ]
     },
     "metadata": {},
     "output_type": "display_data"
    },
    {
     "data": {
      "application/javascript": [
       "$('#output').text(now()+' CREATE_IN_PROGRESS')"
      ]
     },
     "metadata": {},
     "output_type": "display_data"
    },
    {
     "data": {
      "application/javascript": [
       "$('#output').text(now()+' CREATE_IN_PROGRESS')"
      ]
     },
     "metadata": {},
     "output_type": "display_data"
    },
    {
     "data": {
      "application/javascript": [
       "$('#output').text(now()+' CREATE_IN_PROGRESS')"
      ]
     },
     "metadata": {},
     "output_type": "display_data"
    },
    {
     "data": {
      "application/javascript": [
       "$('#output').text(now()+' CREATE_IN_PROGRESS')"
      ]
     },
     "metadata": {},
     "output_type": "display_data"
    },
    {
     "data": {
      "application/javascript": [
       "$('#output').text(now()+' CREATE_IN_PROGRESS')"
      ]
     },
     "metadata": {},
     "output_type": "display_data"
    },
    {
     "data": {
      "application/javascript": [
       "$('#output').text(now()+' CREATE_IN_PROGRESS')"
      ]
     },
     "metadata": {},
     "output_type": "display_data"
    },
    {
     "data": {
      "application/javascript": [
       "$('#output').text(now()+' CREATE_IN_PROGRESS')"
      ]
     },
     "metadata": {},
     "output_type": "display_data"
    },
    {
     "data": {
      "application/javascript": [
       "$('#output').text(now()+' CREATE_IN_PROGRESS')"
      ]
     },
     "metadata": {},
     "output_type": "display_data"
    },
    {
     "data": {
      "application/javascript": [
       "$('#output').text(now()+' CREATE_IN_PROGRESS')"
      ]
     },
     "metadata": {},
     "output_type": "display_data"
    },
    {
     "data": {
      "application/javascript": [
       "$('#output').text(now()+' CREATE_IN_PROGRESS')"
      ]
     },
     "metadata": {},
     "output_type": "display_data"
    },
    {
     "data": {
      "application/javascript": [
       "$('#output').text(now()+' CREATE_IN_PROGRESS')"
      ]
     },
     "metadata": {},
     "output_type": "display_data"
    },
    {
     "data": {
      "application/javascript": [
       "$('#output').text(now()+' CREATE_IN_PROGRESS')"
      ]
     },
     "metadata": {},
     "output_type": "display_data"
    },
    {
     "data": {
      "application/javascript": [
       "$('#output').text(now()+' CREATE_IN_PROGRESS')"
      ]
     },
     "metadata": {},
     "output_type": "display_data"
    },
    {
     "data": {
      "application/javascript": [
       "$('#output').text(now()+' CREATE_IN_PROGRESS')"
      ]
     },
     "metadata": {},
     "output_type": "display_data"
    },
    {
     "data": {
      "application/javascript": [
       "$('#output').text(now()+' CREATE_IN_PROGRESS')"
      ]
     },
     "metadata": {},
     "output_type": "display_data"
    },
    {
     "data": {
      "application/javascript": [
       "$('#output').text(now()+' CREATE_IN_PROGRESS')"
      ]
     },
     "metadata": {},
     "output_type": "display_data"
    },
    {
     "data": {
      "application/javascript": [
       "$('#output').text(now()+' CREATE_IN_PROGRESS')"
      ]
     },
     "metadata": {},
     "output_type": "display_data"
    },
    {
     "data": {
      "application/javascript": [
       "$('#output').text(now()+' CREATE_IN_PROGRESS')"
      ]
     },
     "metadata": {},
     "output_type": "display_data"
    },
    {
     "data": {
      "application/javascript": [
       "$('#output').text(now()+' CREATE_IN_PROGRESS')"
      ]
     },
     "metadata": {},
     "output_type": "display_data"
    },
    {
     "data": {
      "application/javascript": [
       "$('#output').text(now()+' CREATE_IN_PROGRESS')"
      ]
     },
     "metadata": {},
     "output_type": "display_data"
    },
    {
     "data": {
      "application/javascript": [
       "$('#output').text(now()+' CREATE_IN_PROGRESS')"
      ]
     },
     "metadata": {},
     "output_type": "display_data"
    },
    {
     "data": {
      "application/javascript": [
       "$('#output').text(now()+' CREATE_IN_PROGRESS')"
      ]
     },
     "metadata": {},
     "output_type": "display_data"
    },
    {
     "data": {
      "application/javascript": [
       "$('#output').text(now()+' CREATE_IN_PROGRESS')"
      ]
     },
     "metadata": {},
     "output_type": "display_data"
    },
    {
     "data": {
      "application/javascript": [
       "$('#output').text(now()+' CREATE_IN_PROGRESS')"
      ]
     },
     "metadata": {},
     "output_type": "display_data"
    },
    {
     "data": {
      "application/javascript": [
       "$('#output').text(now()+' CREATE_IN_PROGRESS')"
      ]
     },
     "metadata": {},
     "output_type": "display_data"
    },
    {
     "data": {
      "application/javascript": [
       "$('#output').text(now()+' CREATE_IN_PROGRESS')"
      ]
     },
     "metadata": {},
     "output_type": "display_data"
    },
    {
     "data": {
      "application/javascript": [
       "$('#output').text(now()+' CREATE_IN_PROGRESS')"
      ]
     },
     "metadata": {},
     "output_type": "display_data"
    },
    {
     "data": {
      "application/javascript": [
       "$('#output').text(now()+' CREATE_IN_PROGRESS')"
      ]
     },
     "metadata": {},
     "output_type": "display_data"
    },
    {
     "data": {
      "application/javascript": [
       "$('#output').text(now()+' CREATE_IN_PROGRESS')"
      ]
     },
     "metadata": {},
     "output_type": "display_data"
    },
    {
     "data": {
      "application/javascript": [
       "$('#output').text(now()+' CREATE_IN_PROGRESS')"
      ]
     },
     "metadata": {},
     "output_type": "display_data"
    },
    {
     "data": {
      "application/javascript": [
       "$('#output').text(now()+' CREATE_IN_PROGRESS')"
      ]
     },
     "metadata": {},
     "output_type": "display_data"
    },
    {
     "data": {
      "application/javascript": [
       "$('#output').text(now()+' CREATE_IN_PROGRESS')"
      ]
     },
     "metadata": {},
     "output_type": "display_data"
    },
    {
     "data": {
      "application/javascript": [
       "$('#output').text(now()+' CREATE_IN_PROGRESS')"
      ]
     },
     "metadata": {},
     "output_type": "display_data"
    },
    {
     "data": {
      "application/javascript": [
       "$('#output').text(now()+' CREATE_IN_PROGRESS')"
      ]
     },
     "metadata": {},
     "output_type": "display_data"
    },
    {
     "data": {
      "application/javascript": [
       "$('#output').text(now()+' CREATE_IN_PROGRESS')"
      ]
     },
     "metadata": {},
     "output_type": "display_data"
    },
    {
     "data": {
      "application/javascript": [
       "$('#output').text(now()+' CREATE_IN_PROGRESS')"
      ]
     },
     "metadata": {},
     "output_type": "display_data"
    },
    {
     "data": {
      "application/javascript": [
       "$('#output').text(now()+' CREATE_IN_PROGRESS')"
      ]
     },
     "metadata": {},
     "output_type": "display_data"
    },
    {
     "data": {
      "application/javascript": [
       "$('#output').text(now()+' CREATE_IN_PROGRESS')"
      ]
     },
     "metadata": {},
     "output_type": "display_data"
    },
    {
     "data": {
      "application/javascript": [
       "$('#output').text(now()+' CREATE_IN_PROGRESS')"
      ]
     },
     "metadata": {},
     "output_type": "display_data"
    },
    {
     "data": {
      "application/javascript": [
       "$('#output').text(now()+' CREATE_IN_PROGRESS')"
      ]
     },
     "metadata": {},
     "output_type": "display_data"
    },
    {
     "data": {
      "application/javascript": [
       "$('#output').text(now()+' CREATE_IN_PROGRESS')"
      ]
     },
     "metadata": {},
     "output_type": "display_data"
    },
    {
     "data": {
      "application/javascript": [
       "$('#output').text(now()+' CREATE_IN_PROGRESS')"
      ]
     },
     "metadata": {},
     "output_type": "display_data"
    },
    {
     "data": {
      "application/javascript": [
       "$('#output').text(now()+' CREATE_IN_PROGRESS')"
      ]
     },
     "metadata": {},
     "output_type": "display_data"
    },
    {
     "data": {
      "application/javascript": [
       "$('#output').text(now()+' CREATE_IN_PROGRESS')"
      ]
     },
     "metadata": {},
     "output_type": "display_data"
    },
    {
     "data": {
      "application/javascript": [
       "$('#output').text(now()+' CREATE_IN_PROGRESS')"
      ]
     },
     "metadata": {},
     "output_type": "display_data"
    },
    {
     "data": {
      "application/javascript": [
       "$('#output').text(now()+' CREATE_IN_PROGRESS')"
      ]
     },
     "metadata": {},
     "output_type": "display_data"
    },
    {
     "data": {
      "application/javascript": [
       "$('#output').text(now()+' CREATE_IN_PROGRESS')"
      ]
     },
     "metadata": {},
     "output_type": "display_data"
    },
    {
     "data": {
      "application/javascript": [
       "$('#output').text(now()+' CREATE_IN_PROGRESS')"
      ]
     },
     "metadata": {},
     "output_type": "display_data"
    },
    {
     "data": {
      "application/javascript": [
       "$('#output').text(now()+' CREATE_IN_PROGRESS')"
      ]
     },
     "metadata": {},
     "output_type": "display_data"
    },
    {
     "data": {
      "application/javascript": [
       "$('#output').text(now()+' CREATE_IN_PROGRESS')"
      ]
     },
     "metadata": {},
     "output_type": "display_data"
    },
    {
     "data": {
      "application/javascript": [
       "$('#output').text(now()+' CREATE_IN_PROGRESS')"
      ]
     },
     "metadata": {},
     "output_type": "display_data"
    },
    {
     "data": {
      "application/javascript": [
       "$('#output').text(now()+' CREATE_IN_PROGRESS')"
      ]
     },
     "metadata": {},
     "output_type": "display_data"
    },
    {
     "data": {
      "application/javascript": [
       "$('#output').text(now()+' CREATE_IN_PROGRESS')"
      ]
     },
     "metadata": {},
     "output_type": "display_data"
    },
    {
     "data": {
      "application/javascript": [
       "$('#output').text(now()+' CREATE_IN_PROGRESS')"
      ]
     },
     "metadata": {},
     "output_type": "display_data"
    },
    {
     "data": {
      "application/javascript": [
       "$('#output').text(now()+' CREATE_IN_PROGRESS')"
      ]
     },
     "metadata": {},
     "output_type": "display_data"
    },
    {
     "data": {
      "application/javascript": [
       "$('#output').text(now()+' CREATE_IN_PROGRESS')"
      ]
     },
     "metadata": {},
     "output_type": "display_data"
    },
    {
     "data": {
      "application/javascript": [
       "$('#output').text(now()+' CREATE_IN_PROGRESS')"
      ]
     },
     "metadata": {},
     "output_type": "display_data"
    },
    {
     "data": {
      "application/javascript": [
       "$('#output').text(now()+' CREATE_IN_PROGRESS')"
      ]
     },
     "metadata": {},
     "output_type": "display_data"
    },
    {
     "data": {
      "application/javascript": [
       "$('#output').text(now()+' CREATE_COMPLETE')"
      ]
     },
     "metadata": {},
     "output_type": "display_data"
    },
    {
     "data": {
      "text/plain": [
       "\u001b[32mimport \u001b[39m\u001b[36mscala.io._\n",
       "\u001b[39m\n",
       "\u001b[32mimport \u001b[39m\u001b[36mcom.amazonaws.services.cloudformation.model._\n",
       "\n",
       "\u001b[39m\n",
       "\u001b[36mcf\u001b[39m: \u001b[32mAmazonCloudFormationClient\u001b[39m = com.amazonaws.services.cloudformation.AmazonCloudFormationClient@18944d0a\n",
       "defined \u001b[32mfunction\u001b[39m \u001b[36mcreateRequest\u001b[39m"
      ]
     },
     "execution_count": 29,
     "metadata": {},
     "output_type": "execute_result"
    }
   ],
   "source": [
    "// read template\n",
    "import scala.io._\n",
    "import com.amazonaws.services.cloudformation.model._\n",
    "\n",
    "val cf = new cloudformation.AmazonCloudFormationClient\n",
    "\n",
    "// create\n",
    "def createRequest() = {\n",
    "    import com.amazonaws.services.cloudformation._\n",
    "    import com.amazonaws.services.cloudformation.model._\n",
    "    val cfr = new CreateStackRequest()\n",
    "    cfr.setStackName(stackName)\n",
    "    val params =  Seq(\n",
    "      new Parameter().withParameterKey(\"KeyName\").withParameterValue(keyName),\n",
    "      new Parameter().withParameterKey(\"InstanceType\").withParameterValue(instanceType),\n",
    "      new Parameter().withParameterKey(\"ImageId\").withParameterValue(imageId)    \n",
    "    ) \n",
    "    cfr.setParameters(params.asJava)\n",
    "    cfr\n",
    "}\n",
    "\n",
    "if(create) {\n",
    "    val cfr = createRequest()\n",
    "    val body = Source.fromFile(template.toString).getLines.mkString(\"\\n\")\n",
    "    cfr.setTemplateBody(body)\n",
    "    // run request\n",
    "    val res = cf.createStack(cfr)\n",
    "    statusLoop\n",
    "}"
   ]
  },
  {
   "cell_type": "markdown",
   "metadata": {},
   "source": [
    "## Cleanup"
   ]
  },
  {
   "cell_type": "code",
   "execution_count": 30,
   "metadata": {},
   "outputs": [
    {
     "data": {
      "text/plain": [
       "defined \u001b[32mfunction\u001b[39m \u001b[36mremoveRequest\u001b[39m"
      ]
     },
     "execution_count": 30,
     "metadata": {},
     "output_type": "execute_result"
    }
   ],
   "source": [
    "// remove\n",
    "def removeRequest() = \n",
    "    new DeleteStackRequest().withStackName(stackName)\n",
    "\n",
    "if(remove) { \n",
    "    cf.deleteStack(removeRequest())\n",
    "    statusLoop\n",
    "}\n",
    "//removeRequest()"
   ]
  },
  {
   "cell_type": "markdown",
   "metadata": {},
   "source": [
    "## Building the inventory"
   ]
  },
  {
   "cell_type": "code",
   "execution_count": 30,
   "metadata": {
    "scrolled": true
   },
   "outputs": [
    {
     "name": "stderr",
     "output_type": "stream",
     "text": [
      "cmd30.sc:6: reference to Region is ambiguous;\n",
      "it is imported twice in the same scope by\n",
      "import com.amazonaws.regions._\n",
      "and import _root_.com.amazonaws.services.ec2.model.{PermissionGroup, BundleTask, VpnState, DescribeVpcPeeringConnectionsResult, SubnetState, CreateVpnConnectionRouteRequest, ImportSnapshotTask, DescribeImportImageTasksRequest, DeleteVolumeRequest, UserBucketDetails, BundleInstanceResult, DeleteKeyPairRequest, AssignPrivateIpAddressesRequest, DescribeNetworkInterfaceAttributeRequest, DescribeFlowLogsRequest, DescribeSnapshotsRequest, S3Storage, SummaryStatus, DescribeAddressesRequest, DescribePrefixListsResult, IpPermission, Affinity, CreateTagsResult, ModifyIdentityIdFormatRequest, CreateRouteRequest, DescribeClassicLinkInstancesRequest, EbsInstanceBlockDeviceSpecification, CancelConversionTaskResult, DeleteTagsRequest, DescribeSubnetsRequest, RebootInstancesResult, CreateNetworkAclEntryRequest, ScheduledInstanceRecurrenceRequest, DetachVolumeRequest, DescribeRouteTablesRequest, DescribeScheduledInstanceAvailabilityResult, AttachNetworkInterfaceResult, ImageAttributeName, DeleteInternetGatewayRequest, ScheduledInstancesPlacement, DeleteSecurityGroupRequest, SpotFleetLaunchSpecification, CreateVpcPeeringConnectionResult, InstanceNetworkInterfaceAssociation, AssociateAddressRequest, InstancePrivateIpAddress, DescribeInstanceAttributeResult, ImportImageResult, AttachVolumeRequest, VpnConnection, ConfirmProductInstanceRequest, AcceptVpcPeeringConnectionResult, DisassociateRouteTableRequest, MoveAddressToVpcRequest, VolumeAttachment, InternetGateway, VolumeStatusEvent, ModifySpotFleetRequestResult, DeleteFlowLogsRequest, DescribeAddressesResult, ImageAttribute, DescribeVolumesResult, RouteTableAssociation, DescribeStaleSecurityGroupsRequest, GetConsoleScreenshotRequest, ReleaseAddressRequest, CreateImageRequest, StopInstancesResult, ModifyVpcAttributeRequest, Status, DescribeSecurityGroupsRequest, DescribeIdFormatResult, DescribeSpotFleetInstancesRequest, RevokeSecurityGroupEgressRequest, PurchaseScheduledInstancesRequest, InternetGatewayAttachment, DescribeSpotFleetRequestHistoryResult, DescribeVpcEndpointsRequest, CreateKeyPairRequest, DeleteSubnetRequest, CreateInternetGatewayRequest, CreateVpcResult, RIProductDescription, DescribeScheduledInstancesResult, GetConsoleOutputResult, VolumeStatusInfo, ReportInstanceStatusRequest, InstanceCount, BundleTaskError, DomainType, EventCode, DeleteVpcPeeringConnectionRequest, DescribeRegionsRequest, DeletePlacementGroupRequest, CreateVpcRequest, InstanceMonitoring, DescribeRouteTablesResult, RestoreAddressToClassicResult, ReservedInstancesModificationResult, CancelSpotFleetRequestsResult, DescribeSpotFleetRequestHistoryRequest, AttachVpnGatewayRequest, RequestSpotFleetRequest, InstanceBlockDeviceMappingSpecification, AuthorizeSecurityGroupEgressResult, ClientData, DescribeImagesResult, DeleteVpcEndpointsRequest, CreateCustomerGatewayResult, DeregisterImageResult, CreateVolumeResult, DescribeKeyPairsRequest, SnapshotAttributeName, CreateFlowLogsResult, DescribeReservedInstancesResult, DescribeStaleSecurityGroupsResult, CreateNetworkInterfaceRequest, Vpc, EbsBlockDevice, DescribeImageAttributeResult, ReservedInstancesModification, DeleteVolumeResult, DescribeSpotDatafeedSubscriptionResult, DeleteVpnGatewayResult, PrefixList, CreateInstanceExportTaskRequest, CancelSpotInstanceRequestsResult, TagDescription, DescribeVolumeAttributeRequest, SecurityGroupReference, CreateVpnConnectionResult, AssociateDhcpOptionsResult, DescribeSecurityGroupReferencesRequest, PlacementGroupState, VpnStaticRoute, AllocateAddressRequest, MoveAddressToVpcResult, VpcEndpoint, VpcClassicLink, RegisterImageResult, InstanceState, ExportTaskState, DeviceType, MonitoringState, DeleteVpnConnectionRouteResult, DescribeSnapshotsResult, CancelBatchErrorCode, StatusType, EventInformation, ModifyInstancePlacementRequest, DescribeSecurityGroupReferencesResult, CancelReservedInstancesListingRequest, InstanceExportDetails, DisableVpcClassicLinkDnsSupportRequest, DetachInternetGatewayResult, ImportInstanceLaunchSpecification, CreateInternetGatewayResult, DeleteRouteRequest, MoveStatus, VpnConnectionOptions, AuthorizeSecurityGroupIngressRequest, CreateNatGatewayResult, DescribeSubnetsResult, EnableVolumeIOResult, DescribeImportImageTasksResult, CancelSpotFleetRequestsRequest, CancelReservedInstancesListingResult, DescribeNetworkAclsResult, CreatePlacementGroupResult, DescribeClassicLinkInstancesResult, UnsuccessfulItem, TerminateInstancesResult, ScheduledInstancesNetworkInterface, DryRunSupportedRequest, DescribeSnapshotAttributeRequest, VpcAttributeName, VgwTelemetry, ModifyVolumeAttributeResult, RecurringChargeFrequency, CreatePlacementGroupRequest, AllocateAddressResult, CreateVolumeRequest, EnableVpcClassicLinkDnsSupportResult, InstanceStatusSummary, ReplaceRouteTableAssociationRequest, BundleInstanceRequest, ImportInstanceResult, ReportStatusType, AssociateAddressResult, DeleteVpnGatewayRequest, AttachClassicLinkVpcResult, ImageState, ProductCodeValues, CreateTagsRequest, ModifyIdFormatResult, DetachClassicLinkVpcResult, KeyPair, AttachVolumeResult, DescribePlacementGroupsRequest, VpcPeeringConnectionStateReason, CreateDhcpOptionsResult, DeleteSnapshotResult, ModifySubnetAttributeResult, CreateKeyPairResult, RouteOrigin, Route, ReplaceRouteTableAssociationResult, CopyImageRequest, ModifyInstanceAttributeResult, CreateFlowLogsRequest, AttachNetworkInterfaceRequest, DeleteCustomerGatewayResult, ModifyVpcAttributeResult, DeleteNatGatewayRequest, UserBucket, MonitorInstancesResult, RevokeSecurityGroupIngressResult, GetConsoleOutputRequest, AttachInternetGatewayRequest, ModifyVpcEndpointRequest, ResetImageAttributeResult, DetachNetworkInterfaceResult, Subnet, DescribeInternetGatewaysRequest, DescribeReservedInstancesOfferingsRequest, NetworkInterfaceAttachment, DeleteVpnConnectionRequest, InstanceNetworkInterfaceSpecification, DeleteNetworkAclEntryResult, TrafficType, ImportImageRequest, ImportVolumeResult, ProductCode, InstanceStatusDetails, NetworkInterface, EnableVpcClassicLinkRequest, ScheduledInstanceAvailability, IamInstanceProfileSpecification, DescribeNetworkAclsRequest, DeleteVpnConnectionRouteRequest, DeleteRouteTableResult, CancelExportTaskRequest, DescribeNetworkInterfacesRequest, DescribeExportTasksRequest, CancelSpotFleetRequestsSuccessItem, SpotDatafeedSubscription, CreateVpnGatewayRequest, DisableVpcClassicLinkResult, ReleaseHostsResult, SnapshotTaskDetail, ClassicLinkDnsSupport, HypervisorType, SecurityGroup, DeregisterImageRequest, DiskImageVolumeDescription, ModifyNetworkInterfaceAttributeRequest, ModifyNetworkInterfaceAttributeResult, DeleteNetworkAclEntryRequest, ReplaceNetworkAclEntryRequest, ImportVolumeRequest, CreateSnapshotRequest, CancelConversionTaskRequest, SlotDateTimeRangeRequest, PlatformValues, TerminateInstancesRequest, DescribeSpotDatafeedSubscriptionRequest, PurchaseRequest, DescribeIdFormatRequest, CreateDhcpOptionsRequest, CreateRouteTableResult, ModifyVolumeAttributeRequest, UnassignPrivateIpAddressesResult, AcceptVpcPeeringConnectionRequest, ResetInstanceAttributeResult, ResourceType, DisableVgwRoutePropagationResult, VolumeType, ConversionTask, DescribeAvailabilityZonesRequest, DescribeScheduledInstancesRequest, DeleteVpcResult, DescribeVpcPeeringConnectionsRequest, DisassociateAddressResult, NetworkInterfaceAssociation, AuthorizeSecurityGroupEgressRequest, ModifyHostsResult, EnableVpcClassicLinkResult, ResetNetworkInterfaceAttributeResult, DiskImageFormat, DescribeDhcpOptionsRequest, SpotPrice, ArchitectureValues, CreateNetworkAclRequest, DetachNetworkInterfaceRequest, ListingState, ResetSnapshotAttributeRequest, ActiveInstance, DescribeIdentityIdFormatResult, RejectVpcPeeringConnectionRequest, ModifyHostsRequest, DescribeConversionTasksResult, SpotInstanceType, ModifyIdFormatRequest, Host, PrefixListId, DescribeVpnConnectionsRequest, AssociateDhcpOptionsRequest, ImportKeyPairResult, ResetInstanceAttributeRequest, VolumeDetail, DescribeNetworkInterfacesResult, LaunchPermission, VpcPeeringConnectionOptionsDescription, DescribeReservedInstancesModificationsResult, CancelExportTaskResult, RegisterImageRequest, DescribeVolumeAttributeResult, NatGatewayAddress, CreateVpcEndpointResult, NetworkAcl, ReservedInstanceState, DeleteSecurityGroupResult, BatchState, CreateCustomerGatewayRequest, DescribeSpotInstanceRequestsRequest, IdFormat, VpcState, VolumeAttachmentState, IamInstanceProfile, AvailabilityZoneMessage, DisableVpcClassicLinkDnsSupportResult, CreateVpnConnectionRequest, DescribePlacementGroupsResult, DescribeVpcEndpointServicesResult, Reservation, RecurringCharge, ReservedInstancesConfiguration, DescribeNatGatewaysRequest, DeletePlacementGroupResult, CreateSecurityGroupRequest, UserIdGroupPair, VolumeStatusItem, RequestSpotInstancesRequest, DescribeFlowLogsResult, CreateNetworkInterfaceResult, ModifyVpcPeeringConnectionOptionsResult, CreateSecurityGroupResult, DeleteFlowLogsResult, EbsInstanceBlockDevice, DeleteSnapshotRequest, ScheduledInstancesLaunchSpecification, RunInstancesRequest, DeleteRouteTableRequest, DeleteVpcPeeringConnectionResult, NatGateway, AutoPlacement, InstanceNetworkInterface, PurchaseScheduledInstancesResult, LaunchSpecification, DeleteRouteResult, DetachVpnGatewayResult, HostProperties, DeleteVpcRequest, DescribeVpnConnectionsResult, ModifyVpcEndpointResult, AttachVpnGatewayResult, DescribeVpcsResult, Image, DescribeSpotFleetInstancesResult, CancelBundleTaskResult, UnsuccessfulItemError, ModifyInstancePlacementResult, GroupIdentifier, ModifyImageAttributeResult, CreateSnapshotResult, ShutdownBehavior, DeleteDhcpOptionsResult, FlowLog, DescribeBundleTasksRequest, NetworkInterfaceStatus, ModifyVpcPeeringConnectionOptionsRequest, ReservedInstancesListing, DeleteNetworkInterfaceResult, CreateVpcEndpointRequest, AttachmentStatus, DescribeNatGatewaysResult, ReleaseAddressResult, EnableVgwRoutePropagationRequest, DetachVpnGatewayRequest, DescribeConversionTasksRequest, CreateVpnConnectionRouteResult, StaleIpPermission, PeeringConnectionOptionsRequest, DisableVpcClassicLinkRequest, CreateVpcPeeringConnectionRequest, GetPasswordDataResult, InstanceCapacity, ModifyReservedInstancesRequest, DescribeAccountAttributesResult, ReportInstanceReasonCodes, PriceSchedule, ExportToS3TaskSpecification, GetConsoleScreenshotResult, InstanceStateName, EnableVolumeIORequest, SnapshotState, DescribeSpotFleetRequestsRequest, AccountAttributeName, MonitorInstancesRequest, VolumeAttributeName, VolumeStatusDetails, DetachInternetGatewayRequest, StatusName, VpnConnectionOptionsSpecification, MovingAddressStatus, DryRunResult, DescribeCustomerGatewaysRequest, ImportInstanceVolumeDetailItem, NetworkInterfaceType, FlowLogsResourceType, DescribeSpotFleetRequestsResult, CreateVolumePermission, DescribeVolumeStatusRequest, RuleAction, RouteTable, Filter, StateReason, DescribeVpcEndpointServicesRequest, DescribeAvailabilityZonesResult, DeleteVpcEndpointsResult, DetachClassicLinkVpcRequest, ScheduledInstanceRecurrence, InstanceStatus, VirtualizationType, SpotInstanceStateFault, CreateSubnetRequest, DescribeVpcEndpointsResult, ExportEnvironment, AvailabilityZone, DescribeVolumesRequest, OperationType, DescribeVolumeStatusResult, CreateNetworkAclResult, DescribeAccountAttributesRequest, CopySnapshotResult, CustomerGateway, DeleteInternetGatewayResult, ImportVolumeTaskDetails, SnapshotDiskContainer, HistoryRecord, RequestSpotFleetResult, EventType, ScheduledInstancesMonitoring, ExportTask, VpnGateway, CreateImageResult, ReservedInstanceLimitPrice, SlotStartTimeRangeRequest, CancelSpotInstanceRequestState, BundleTaskState, Volume, PlacementGroup, ScheduledInstancesPrivateIpAddressConfig, DescribeInstancesResult, PurchaseReservedInstancesOfferingResult, DeleteSpotDatafeedSubscriptionRequest, DescribeInstanceStatusRequest, CancelBundleTaskRequest, KeyPairInfo, ImportSnapshotResult, InstanceLifecycleType, DescribeVpcClassicLinkRequest, DescribeSpotPriceHistoryRequest, UnassignPrivateIpAddressesRequest, RevokeSecurityGroupEgressResult, DescribeMovingAddressesRequest, DescribeTagsResult, NetworkInterfaceAttachmentChanges, CreateRouteTableRequest, ProvisionedBandwidth, RunScheduledInstancesRequest, CancelSpotInstanceRequestsRequest, Storage, ImportKeyPairRequest, DescribeVpnGatewaysResult, RequestSpotInstancesResult, DescribeRegionsResult, ConversionTaskState, DescribePrefixListsRequest, DeleteNetworkAclResult, ImageDiskContainer, ResetImageAttributeRequest, StaleSecurityGroup, HostInstance, InstanceNetworkInterfaceAttachment, ResetNetworkInterfaceAttributeRequest, DescribeKeyPairsResult, ImportSnapshotRequest, EnableVpcClassicLinkDnsSupportRequest, DeleteSubnetResult, ModifySpotFleetRequestRequest, ReservedInstancesOffering, RevokeSecurityGroupIngressRequest, DescribeSpotPriceHistoryResult, InstanceAttributeName, ClassicLinkInstance, DatafeedSubscriptionState, PortRange, AllocationState, GatewayType, DhcpConfiguration, VolumeStatusInfoStatus, ImportImageTask, PeeringConnectionOptions, IcmpTypeCode, ScheduledInstancesEbs, InstanceStatusEvent, ReplaceNetworkAclAssociationRequest, DescribeSecurityGroupsResult, SnapshotDetail, DescribeTagsRequest, DescribeInternetGatewaysResult, SpotInstanceState, ImportInstanceTaskDetails, AttachInternetGatewayResult, DescribeHostsRequest, DetachVolumeResult, VpnStaticRouteSource, DescribeVpcClassicLinkDnsSupportRequest, DiskImage, NatGatewayState, DescribeVpcClassicLinkDnsSupportResult, CreateRouteResult, DescribeBundleTasksResult, AccountAttribute, ImageTypeValues, AssociateRouteTableRequest, CancelImportTaskResult, EnableVgwRoutePropagationResult, DescribeVpcAttributeResult, VolumeStatusAction, DescribeVpnGatewaysRequest, DescribeExportTasksResult, Tenancy, ExportToS3Task, SpotInstanceStatus, Monitoring, DescribeSpotInstanceRequestsResult, CopySnapshotRequest, InstanceAttribute, ReplaceNetworkAclEntryResult, DeleteDhcpOptionsRequest, PriceScheduleSpecification, DescribeReservedInstancesRequest, DescribeImagesRequest, CreateNatGatewayRequest, AvailabilityZoneState, DescribeNetworkInterfaceAttributeResult, CreateSpotDatafeedSubscriptionResult, DescribeImportSnapshotTasksResult, AvailableCapacity, TelemetryStatus, DescribeInstanceAttributeRequest, CurrencyCodeValues, DiskImageDescription, ReleaseHostsRequest, DeleteTagsResult, DeleteVpnConnectionResult, Instance, VpcPeeringConnectionVpcInfo, InstanceBlockDeviceMapping, CreateReservedInstancesListingResult, DescribeReservedInstancesListingsRequest, DescribeHostsResult, DeleteNetworkInterfaceRequest, ContainerFormat, DiskImageDetail, SpotFleetRequestConfig, DeleteCustomerGatewayRequest, AuthorizeSecurityGroupIngressResult, CancelSpotFleetRequestsError, NetworkInterfaceAttribute, DescribeSnapshotAttributeResult, AllocateHostsResult, OfferingTypeValues, DescribeDhcpOptionsResult, CancelledSpotInstanceRequest, Region, RunInstancesResult, NetworkAclEntry, DescribeVpcClassicLinkResult, PurchaseReservedInstancesOfferingRequest, ReplaceRouteRequest, ModifySnapshotAttributeResult, DescribeVpcsRequest, CopyImageResult, InstanceType, CreateSpotDatafeedSubscriptionRequest, AllocationStrategy, ReplaceNetworkAclAssociationResult, DescribeReservedInstancesModificationsRequest, DescribeCustomerGatewaysResult, Snapshot, ConfirmProductInstanceResult, RestoreAddressToClassicRequest, DescribeReservedInstancesListingsResult, StartInstancesResult, ModifyReservedInstancesResult, SpotFleetRequestConfigData, RunScheduledInstancesResult, BlockDeviceMapping, VpcPeeringConnection, Placement, CreateVpnGatewayResult, DescribeImportSnapshotTasksRequest, DescribeInstancesRequest, SpotInstanceRequest, ListingStatus, ReservedInstances, ReplaceRouteResult, VolumeState, FleetType, PlacementStrategy, DescribeInstanceStatusResult, RejectVpcPeeringConnectionResult, ImportInstanceRequest, NetworkInterfacePrivateIpAddress, DeleteSpotDatafeedSubscriptionResult, VpcPeeringConnectionStateReasonCode, ModifyIdentityIdFormatResult, ResetImageAttributeName, UnmonitorInstancesRequest, PricingDetail, ScheduledInstancesBlockDeviceMapping, DeleteNatGatewayResult, UnmonitorInstancesResult, ModifyInstanceAttributeRequest, CreateSubnetResult, ReservedInstancesId, SpotPlacement, GetPasswordDataRequest, AccountAttributeValue, ExcessCapacityTerminationPolicy, ModifyImageAttributeRequest, DescribeIdentityIdFormatRequest, ModifySnapshotAttributeRequest, CreateInstanceExportTaskResult, StartInstancesRequest, InstanceStateChange, RebootInstancesRequest, VpcAttachment, ScheduledInstancesIamInstanceProfile, CancelImportTaskRequest, UserData, PrivateIpAddressSpecification, VolumeStatusName, HostTenancy, ResetSnapshotAttributeResult, DescribeScheduledInstanceAvailabilityRequest, PropagatingVgw, StopInstancesRequest, DeleteKeyPairResult, RouteState, CreateReservedInstancesListingRequest, DescribeImageAttributeRequest, SpotFleetMonitoring, AllocateHostsRequest, AssignPrivateIpAddressesResult, Address, ScheduledInstance, DisableVgwRoutePropagationRequest, DhcpOptions, AttachClassicLinkVpcRequest, State, CreateNetworkAclEntryResult, DescribeReservedInstancesOfferingsResult, DeleteNetworkAclRequest, AmazonEC2Exception, LaunchPermissionModifications, DisassociateAddressRequest, DescribeMovingAddressesResult, CreateVolumePermissionModifications, NetworkAclAssociation, DescribeVpcAttributeRequest, AssociateRouteTableResult, ModifySubnetAttributeRequest, DisassociateRouteTableResult, ReportInstanceStatusResult, CancelSpotFleetRequestsErrorItem}\n",
      "val res30_4 = ec2.setRegion(Region.getRegion(regions))\n",
      "                            ^"
     ]
    },
    {
     "ename": "",
     "evalue": "",
     "output_type": "error",
     "traceback": [
      "Compilation Failed"
     ]
    }
   ],
   "source": [
    "import com.amazonaws.services.ec2._\n",
    "import com.amazonaws.regions._\n",
    "\n",
    "val ec2 = new AmazonEC2Client()\n",
    "val regions = Regions.fromName(region)\n",
    "ec2.setRegion(Region.getRegion(regions))"
   ]
  },
  {
   "cell_type": "code",
   "execution_count": 30,
   "metadata": {},
   "outputs": [
    {
     "name": "stderr",
     "output_type": "stream",
     "text": [
      "cmd30.sc:4: object describeInstances is not a member of package com.amazonaws.services.ec2\n",
      " reservation <- ec2.describeInstances.getReservations.asScala\n",
      "                    ^"
     ]
    },
    {
     "ename": "",
     "evalue": "",
     "output_type": "error",
     "traceback": [
      "Compilation Failed"
     ]
    }
   ],
   "source": [
    "import collection.JavaConverters._\n",
    "\n",
    "val instances = for {\n",
    " reservation <- ec2.describeInstances.getReservations.asScala\n",
    " instance <- reservation.getInstances.asScala\n",
    "} yield {\n",
    "    instance\n",
    "}"
   ]
  },
  {
   "cell_type": "code",
   "execution_count": 30,
   "metadata": {},
   "outputs": [
    {
     "name": "stderr",
     "output_type": "stream",
     "text": [
      "cmd30.sc:6: object stopInstances is not a member of package com.amazonaws.services.ec2\n",
      "    Some(ec2.stopInstances(new StopInstancesRequest(ids.asJava)))\n",
      "             ^cmd30.sc:12: object startInstances is not a member of package com.amazonaws.services.ec2\n",
      "     Some(ec2.startInstances(new StartInstancesRequest(stopped.asJava)))\n",
      "              ^"
     ]
    },
    {
     "ename": "",
     "evalue": "",
     "output_type": "error",
     "traceback": [
      "Compilation Failed"
     ]
    }
   ],
   "source": [
    "import com.amazonaws.services.ec2.model._\n",
    "import collection.JavaConverters._\n",
    "\n",
    "val susp = if(suspend) {\n",
    "    val ids = instances.filter(_.getState.getName == \"running\").map(_.getInstanceId)\n",
    "    Some(ec2.stopInstances(new StopInstancesRequest(ids.asJava)))\n",
    "    message(\"SUSPENDING\")\n",
    "} else None\n",
    "\n",
    "val resm = if(resume) {\n",
    "     val stopped = instances.filter(_.getState.getName == \"stopped\").map(_.getInstanceId)\n",
    "     Some(ec2.startInstances(new StartInstancesRequest(stopped.asJava)))\n",
    "     message(\"RESUMING\")\n",
    "} else None"
   ]
  }
 ],
 "metadata": {
  "kernelspec": {
   "display_name": "Scala",
   "language": "scala",
   "name": "scala"
  },
  "language_info": {
   "codemirror_mode": "text/x-scala",
   "file_extension": ".scala",
   "mimetype": "text/x-scala",
   "name": "scala211",
   "nbconvert_exporter": "script",
   "pygments_lexer": "scala",
   "version": "2.11.8"
  }
 },
 "nbformat": 4,
 "nbformat_minor": 1
}
