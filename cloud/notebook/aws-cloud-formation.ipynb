{
 "cells": [
  {
   "cell_type": "code",
   "execution_count": 1,
   "metadata": {},
   "outputs": [
    {
     "data": {
      "text/plain": [
       "\u001b[36maction\u001b[39m: \u001b[32mString\u001b[39m = \u001b[32m\"none\"\u001b[39m"
      ]
     },
     "execution_count": 1,
     "metadata": {},
     "output_type": "execute_result"
    }
   ],
   "source": [
    "//val action = \"create\"\n",
    "//val action = \"remove\"\n",
    "val action = \"none\""
   ]
  },
  {
   "cell_type": "code",
   "execution_count": 2,
   "metadata": {},
   "outputs": [
    {
     "data": {
      "text/plain": [
       "\u001b[32mimport \u001b[39m\u001b[36m$ivy.$                                   \u001b[39m"
      ]
     },
     "execution_count": 2,
     "metadata": {},
     "output_type": "execute_result"
    }
   ],
   "source": [
    "// common imports\n",
    "import $ivy.`com.amazonaws:aws-java-sdk:1.11.22`"
   ]
  },
  {
   "cell_type": "code",
   "execution_count": 3,
   "metadata": {},
   "outputs": [
    {
     "data": {
      "text/plain": [
       "\u001b[32mimport \u001b[39m\u001b[36mammonite.ops._\n",
       "\n",
       "\u001b[39m\n",
       "\u001b[36mstackName\u001b[39m: \u001b[32mString\u001b[39m = \u001b[32m\"test\"\u001b[39m\n",
       "\u001b[36mregion\u001b[39m: \u001b[32mString\u001b[39m = \u001b[32m\"us-east-1\"\u001b[39m\n",
       "\u001b[36mimageId\u001b[39m: \u001b[32mString\u001b[39m = \u001b[32m\"ami-10f53a06\"\u001b[39m\n",
       "\u001b[36minstanceType\u001b[39m: \u001b[32mString\u001b[39m = \u001b[32m\"t2.small\"\u001b[39m\n",
       "\u001b[36mkeyName\u001b[39m: \u001b[32mString\u001b[39m = \u001b[32m\"atomic\"\u001b[39m\n",
       "\u001b[36mtemplate\u001b[39m: \u001b[32mammonite\u001b[39m.\u001b[32mops\u001b[39m.\u001b[32mPath\u001b[39m = /Users/msciab/Dropbox/Work/MacBookPro/MicheleSciabarra/Mosaico/cloud/aws/kubernetes.yml"
      ]
     },
     "execution_count": 3,
     "metadata": {},
     "output_type": "execute_result"
    }
   ],
   "source": [
    "import ammonite.ops._\n",
    "\n",
    "val stackName = \"test\"\n",
    "/// parameters\n",
    "// template is for us-east-1\n",
    "// change images for different regions\n",
    "val region = \"us-east-1\"\n",
    "val imageId = \"ami-10f53a06\"\n",
    "val instanceType = \"t2.small\"\n",
    "val keyName = \"atomic\"\n",
    "val template = pwd/up/'aws/\"kubernetes.yml\""
   ]
  },
  {
   "cell_type": "code",
   "execution_count": 4,
   "metadata": {},
   "outputs": [
    {
     "data": {
      "text/plain": [
       "\u001b[32mimport \u001b[39m\u001b[36mcom.amazonaws.services.cloudformation.model._\n",
       "\u001b[39m\n",
       "\u001b[32mimport \u001b[39m\u001b[36mcollection.JavaConverters._\n",
       "\n",
       "// create\n",
       "\u001b[39m\n",
       "defined \u001b[32mfunction\u001b[39m \u001b[36mcreateRequest\u001b[39m\n",
       "defined \u001b[32mfunction\u001b[39m \u001b[36mremoveRequest\u001b[39m"
      ]
     },
     "execution_count": 4,
     "metadata": {},
     "output_type": "execute_result"
    }
   ],
   "source": [
    "import com.amazonaws.services.cloudformation.model._\n",
    "import collection.JavaConverters._\n",
    "\n",
    "// create\n",
    "def createRequest() = {\n",
    "    import com.amazonaws.services.cloudformation._\n",
    "    import com.amazonaws.services.cloudformation.model._\n",
    "    val cfr = new CreateStackRequest()\n",
    "    cfr.setStackName(stackName)\n",
    "    val params =  Seq(\n",
    "      new Parameter().withParameterKey(\"KeyName\").withParameterValue(keyName),\n",
    "      new Parameter().withParameterKey(\"InstanceType\").withParameterValue(instanceType),\n",
    "      new Parameter().withParameterKey(\"ImageId\").withParameterValue(imageId)    \n",
    "    ) \n",
    "    cfr.setParameters(params.asJava)\n",
    "    cfr\n",
    "}\n",
    "// remove\n",
    "def removeRequest() = \n",
    "    new DeleteStackRequest().withStackName(stackName)"
   ]
  },
  {
   "cell_type": "code",
   "execution_count": 5,
   "metadata": {},
   "outputs": [
    {
     "data": {
      "text/plain": [
       "\u001b[32mimport \u001b[39m\u001b[36mcom.amazonaws.services._\n",
       "\u001b[39m\n",
       "\u001b[32mimport \u001b[39m\u001b[36mcom.amazonaws.services.cloudformation._\n",
       "\n",
       "\u001b[39m\n",
       "\u001b[36mcf\u001b[39m: \u001b[32mcom\u001b[39m.\u001b[32mamazonaws\u001b[39m.\u001b[32mservices\u001b[39m.\u001b[32mcloudformation\u001b[39m.\u001b[32mAmazonCloudFormationClient\u001b[39m = com.amazonaws.services.cloudformation.AmazonCloudFormationClient@76b30007\n",
       "defined \u001b[32mfunction\u001b[39m \u001b[36mstatus\u001b[39m\n",
       "defined \u001b[32mfunction\u001b[39m \u001b[36mstatusLoop\u001b[39m"
      ]
     },
     "execution_count": 5,
     "metadata": {},
     "output_type": "execute_result"
    }
   ],
   "source": [
    "import com.amazonaws.services._\n",
    "import com.amazonaws.services.cloudformation._\n",
    "\n",
    "val cf = new AmazonCloudFormationClient() \n",
    "def status = {\n",
    "    val stack = cf.describeStacks\n",
    "        .getStacks.asScala\n",
    "        .filter( _.getStackName == stackName).headOption\n",
    "    stack.map(_.getStackStatus)\n",
    "}\n",
    "def statusLoop {\n",
    "    val st = status\n",
    "    println(st)\n",
    "    if(st.nonEmpty && st.get.endsWith(\"_IN_PROGRESS\")) {\n",
    "        Thread.sleep(1000)\n",
    "        statusLoop\n",
    "    }\n",
    "}"
   ]
  },
  {
   "cell_type": "markdown",
   "metadata": {},
   "source": [
    "## Creation"
   ]
  },
  {
   "cell_type": "code",
   "execution_count": 6,
   "metadata": {},
   "outputs": [
    {
     "data": {
      "text/plain": [
       "\u001b[32mimport \u001b[39m\u001b[36mscala.io._\n",
       "\u001b[39m\n",
       "\u001b[32mimport \u001b[39m\u001b[36mcom.amazonaws.services.cloudformation.model._\n",
       "\n",
       "\u001b[39m"
      ]
     },
     "execution_count": 6,
     "metadata": {},
     "output_type": "execute_result"
    }
   ],
   "source": [
    "// read template\n",
    "import scala.io._\n",
    "import com.amazonaws.services.cloudformation.model._\n",
    "\n",
    "if(action == \"create\") {\n",
    "    val cfr = createRequest()\n",
    "    val body = Source.fromFile(template.toString).getLines.mkString(\"\\n\")\n",
    "    cfr.setTemplateBody(body)\n",
    "    // run request\n",
    "    val res = cf.createStack(cfr)\n",
    "    statusLoop\n",
    "}"
   ]
  },
  {
   "cell_type": "markdown",
   "metadata": {},
   "source": [
    "## Cleanup"
   ]
  },
  {
   "cell_type": "code",
   "execution_count": 7,
   "metadata": {},
   "outputs": [],
   "source": [
    "if(action == \"remove\") { \n",
    "    cf.deleteStack(removeRequest())\n",
    "    statusLoop\n",
    "}\n"
   ]
  },
  {
   "cell_type": "markdown",
   "metadata": {},
   "source": [
    "## Building the inventory"
   ]
  },
  {
   "cell_type": "code",
   "execution_count": 8,
   "metadata": {
    "scrolled": true
   },
   "outputs": [
    {
     "data": {
      "text/plain": [
       "\u001b[32mimport \u001b[39m\u001b[36mcom.amazonaws.services.ec2._\n",
       "\u001b[39m\n",
       "\u001b[32mimport \u001b[39m\u001b[36mcom.amazonaws.regions._\n",
       "\n",
       "\n",
       "\u001b[39m\n",
       "\u001b[36mec2\u001b[39m: \u001b[32mcom\u001b[39m.\u001b[32mamazonaws\u001b[39m.\u001b[32mservices\u001b[39m.\u001b[32mec2\u001b[39m.\u001b[32mAmazonEC2Client\u001b[39m = com.amazonaws.services.ec2.AmazonEC2Client@11d3e850\n",
       "\u001b[36mregions\u001b[39m: \u001b[32mcom\u001b[39m.\u001b[32mamazonaws\u001b[39m.\u001b[32mregions\u001b[39m.\u001b[32mRegions\u001b[39m = US_EAST_1"
      ]
     },
     "execution_count": 8,
     "metadata": {},
     "output_type": "execute_result"
    }
   ],
   "source": [
    "import com.amazonaws.services.ec2._\n",
    "import com.amazonaws.regions._\n",
    "\n",
    "\n",
    "val ec2 = new AmazonEC2Client()\n",
    "val regions = Regions.fromName(region)\n",
    "ec2.setRegion(Region.getRegion(regions))"
   ]
  },
  {
   "cell_type": "code",
   "execution_count": 9,
   "metadata": {},
   "outputs": [
    {
     "data": {
      "text/plain": [
       "\u001b[32mimport \u001b[39m\u001b[36mcollection.JavaConverters._\n",
       "\n",
       "//val reservation = ec2.describeInstances.getReservations.asScala\n",
       "\u001b[39m\n",
       "\u001b[36mips\u001b[39m: \u001b[32mcollection\u001b[39m.\u001b[32mmutable\u001b[39m.\u001b[32mBuffer\u001b[39m[(\u001b[32mString\u001b[39m, \u001b[32mString\u001b[39m)] = \u001b[33mArrayBuffer\u001b[39m(\n",
       "  (\u001b[32m\"10.0.0.24\"\u001b[39m, \u001b[32m\"34.203.59.213\"\u001b[39m),\n",
       "  (\u001b[32m\"10.0.0.171\"\u001b[39m, \u001b[32m\"54.173.55.251\"\u001b[39m),\n",
       "  (\u001b[32m\"10.0.0.227\"\u001b[39m, \u001b[32m\"54.83.145.51\"\u001b[39m)\n",
       ")"
      ]
     },
     "execution_count": 9,
     "metadata": {},
     "output_type": "execute_result"
    }
   ],
   "source": [
    "import collection.JavaConverters._\n",
    "\n",
    "//val reservation = ec2.describeInstances.getReservations.asScala\n",
    "val ips = for {\n",
    " reservation <- ec2.describeInstances.getReservations.asScala\n",
    " instance <- reservation.getInstances.asScala\n",
    "} yield {\n",
    "    instance.getPrivateIpAddress -> instance.getPublicIpAddress\n",
    "}"
   ]
  },
  {
   "cell_type": "code",
   "execution_count": 12,
   "metadata": {},
   "outputs": [
    {
     "name": "stdout",
     "output_type": "stream",
     "text": [
      "\u001b[33mList\u001b[39m(\n",
      "  \u001b[32m\"[all:vars]\"\u001b[39m,\n",
      "  \u001b[32m\"kube_master_host=34.203.59.213\"\u001b[39m,\n",
      "  \u001b[32m\"kube_master=10.0.0.24\"\u001b[39m,\n",
      "  \u001b[32m\"[aws]\"\u001b[39m,\n",
      "  \u001b[32m\"34.203.59.213\"\u001b[39m,\n",
      "  \u001b[32m\"54.173.55.251\"\u001b[39m,\n",
      "  \u001b[32m\"54.83.145.51\"\u001b[39m,\n",
      "  \u001b[32m\"[masters]\"\u001b[39m,\n",
      "  \u001b[32m\"34.203.59.213 local_ip=10.0.0.24\"\u001b[39m,\n",
      "  \u001b[32m\"[nodes]\"\u001b[39m,\n",
      "  \u001b[32m\"54.173.55.251 local_ip=10.0.0.171\"\u001b[39m,\n",
      "  \u001b[32m\"54.83.145.51 local_ip=10.0.0.227\"\u001b[39m\n",
      ")\n"
     ]
    },
    {
     "data": {
      "text/plain": [
       "\u001b[36minventory\u001b[39m: \u001b[32mSeq\u001b[39m[\u001b[32mString\u001b[39m] = \u001b[33mList\u001b[39m(\n",
       "  \u001b[32m\"[all:vars]\"\u001b[39m,\n",
       "  \u001b[32m\"kube_master_host=34.203.59.213\"\u001b[39m,\n",
       "  \u001b[32m\"kube_master=10.0.0.24\"\u001b[39m,\n",
       "  \u001b[32m\"[aws]\"\u001b[39m,\n",
       "  \u001b[32m\"34.203.59.213\"\u001b[39m,\n",
       "  \u001b[32m\"54.173.55.251\"\u001b[39m,\n",
       "  \u001b[32m\"54.83.145.51\"\u001b[39m,\n",
       "  \u001b[32m\"[masters]\"\u001b[39m,\n",
       "  \u001b[32m\"34.203.59.213 local_ip=10.0.0.24\"\u001b[39m,\n",
       "  \u001b[32m\"[nodes]\"\u001b[39m,\n",
       "  \u001b[32m\"54.173.55.251 local_ip=10.0.0.171\"\u001b[39m,\n",
       "\u001b[33m...\u001b[39m\n",
       "\u001b[36minv\u001b[39m: \u001b[32mPath\u001b[39m = /Users/msciab/Dropbox/Work/MacBookPro/MicheleSciabarra/Mosaico/cloud/aws/inventory"
      ]
     },
     "execution_count": 12,
     "metadata": {},
     "output_type": "execute_result"
    }
   ],
   "source": [
    "val inventory = Seq(\n",
    "    \"[all:vars]\",\n",
    "    s\"kube_master_host=${ips.head._2}\",\n",
    "    s\"kube_master=${ips.head._1}\",    \n",
    "    \"[aws]\"\n",
    ") ++ ips.map(_._2) ++\n",
    "  Seq(\"[masters]\", s\"${ips.head._2} local_ip=${ips.head._1}\") ++\n",
    "  Seq(\"[nodes]\") ++\n",
    "  ips.tail.map(t => s\"${t._2} local_ip=${t._1}\")\n",
    "val inv = pwd/up/'aws/\"inventory\"\n",
    "rm! inv\n",
    "write(inv, inventory.mkString(\"\\n\"))\n",
    "show(inventory)"
   ]
  },
  {
   "cell_type": "code",
   "execution_count": null,
   "metadata": {
    "collapsed": true
   },
   "outputs": [],
   "source": []
  }
 ],
 "metadata": {
  "kernelspec": {
   "display_name": "Scala",
   "language": "scala",
   "name": "scala"
  },
  "language_info": {
   "codemirror_mode": "text/x-scala",
   "file_extension": ".scala",
   "mimetype": "text/x-scala",
   "name": "scala211",
   "nbconvert_exporter": "script",
   "pygments_lexer": "scala",
   "version": "2.11.8"
  }
 },
 "nbformat": 4,
 "nbformat_minor": 1
}
