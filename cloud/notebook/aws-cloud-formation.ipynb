{
 "cells": [
  {
   "cell_type": "code",
   "execution_count": 25,
   "metadata": {},
   "outputs": [
    {
     "data": {
      "text/html": [
       "\n",
       "Cloud Formation:\n",
       "<select id='action'>\n",
       " <option value=\"create\" selected>create</option>\n",
       " <option value=\"remove\">remove</option>\n",
       " <option value=\"suspend\">suspend</option>\n",
       " <option value=\"resume\">resume</option>\n",
       "</select>\n",
       "<button id=\"run\">Run</button>\n",
       "<br><div id='output'></div>\n"
      ]
     },
     "metadata": {},
     "output_type": "display_data"
    }
   ],
   "source": [
    "publish.html(\"\"\"\n",
    "Cloud Formation:\n",
    "<select id='action'>\n",
    " <option value=\"create\" selected>create</option>\n",
    " <option value=\"remove\">remove</option>\n",
    " <option value=\"suspend\">suspend</option>\n",
    " <option value=\"resume\">resume</option>\n",
    "</select>\n",
    "<button id=\"run\">Run</button>\n",
    "<br><div id='output'></div>\n",
    "\"\"\")"
   ]
  },
  {
   "cell_type": "code",
   "execution_count": 67,
   "metadata": {},
   "outputs": [
    {
     "data": {
      "application/javascript": [
       "\n",
       "  window.now = function() { \n",
       "     var time = new Date(); \n",
       "     return time.getHours()+\":\"+time.getMinutes()+\":\"+time.getSeconds() \n",
       "  }\n",
       "  $(\"#run\").off(\"click\")\n",
       "  $(\"#run\").on(\"click\", function(data) {\n",
       "  var data = \"val action=\\\"\"+$(\"#action\").val()+\"\\\"\\nval debug=false\"\n",
       "  IPython.notebook.get_cell(2).code_mirror.setValue(data) \n",
       "  IPython.notebook.select(2)\n",
       "  IPython.notebook.execute_cells_below()\n",
       "})\n"
      ]
     },
     "metadata": {},
     "output_type": "display_data"
    },
    {
     "data": {
      "text/plain": [
       "defined \u001b[32mfunction\u001b[39m \u001b[36mmessage\u001b[39m"
      ]
     },
     "execution_count": 67,
     "metadata": {},
     "output_type": "execute_result"
    }
   ],
   "source": [
    "publish.javascript(\"\"\"\n",
    "  window.now = function() { \n",
    "     var time = new Date(); \n",
    "     return time.getHours()+\":\"+time.getMinutes()+\":\"+time.getSeconds() \n",
    "  }\n",
    "  $(\"#run\").off(\"click\")\n",
    "  $(\"#run\").on(\"click\", function(data) {\n",
    "  var data = \"val action=\\\"\"+$(\"#action\").val()+\"\\\"\\nval debug=false\"\n",
    "  IPython.notebook.get_cell(2).code_mirror.setValue(data) \n",
    "  IPython.notebook.select(2)\n",
    "  IPython.notebook.execute_cells_below()\n",
    "})\n",
    "\"\"\")\n",
    "def message(s:String) = publish.javascript(\"$('#output').text(now()+' \"+s+\"')\")\n"
   ]
  },
  {
   "cell_type": "code",
   "execution_count": 186,
   "metadata": {},
   "outputs": [
    {
     "data": {
      "text/plain": [
       "\u001b[36maction\u001b[39m: \u001b[32mString\u001b[39m = \u001b[32m\"create\"\u001b[39m\n",
       "\u001b[36mdebug\u001b[39m: \u001b[32mBoolean\u001b[39m = \u001b[32mfalse\u001b[39m"
      ]
     },
     "execution_count": 186,
     "metadata": {},
     "output_type": "execute_result"
    }
   ],
   "source": [
    "val action=\"create\"\n",
    "val debug=false"
   ]
  },
  {
   "cell_type": "code",
   "execution_count": 187,
   "metadata": {},
   "outputs": [
    {
     "data": {
      "text/plain": [
       "\u001b[32mimport \u001b[39m\u001b[36mammonite.ops._\n",
       "\n",
       "\u001b[39m\n",
       "\u001b[36mstackName\u001b[39m: \u001b[32mString\u001b[39m = \u001b[32m\"test\"\u001b[39m\n",
       "\u001b[36mregion\u001b[39m: \u001b[32mString\u001b[39m = \u001b[32m\"us-east-1\"\u001b[39m\n",
       "\u001b[36mimageId\u001b[39m: \u001b[32mString\u001b[39m = \u001b[32m\"ami-10f53a06\"\u001b[39m\n",
       "\u001b[36minstanceType\u001b[39m: \u001b[32mString\u001b[39m = \u001b[32m\"t2.small\"\u001b[39m\n",
       "\u001b[36mkeyName\u001b[39m: \u001b[32mString\u001b[39m = \u001b[32m\"atomic\"\u001b[39m\n",
       "\u001b[36mtemplate\u001b[39m: \u001b[32mPath\u001b[39m = /Users/msciab/Dropbox/Work/MacBookPro/MicheleSciabarra/Mosaico/cloud/aws/kubernetes.yml"
      ]
     },
     "execution_count": 187,
     "metadata": {},
     "output_type": "execute_result"
    }
   ],
   "source": [
    "// options\n",
    "import ammonite.ops._\n",
    "\n",
    "val stackName = \"test\"\n",
    "/// parameters\n",
    "// template is for us-east-1\n",
    "// change images for different regions\n",
    "val region = \"us-east-1\"\n",
    "val imageId = \"ami-10f53a06\"\n",
    "val instanceType = \"t2.small\"\n",
    "val keyName = \"atomic\"\n",
    "val template = pwd/up/'aws/\"kubernetes.yml\""
   ]
  },
  {
   "cell_type": "code",
   "execution_count": 188,
   "metadata": {},
   "outputs": [
    {
     "data": {
      "text/plain": [
       "\u001b[32mimport \u001b[39m\u001b[36m$ivy.$                                   \u001b[39m"
      ]
     },
     "execution_count": 188,
     "metadata": {},
     "output_type": "execute_result"
    }
   ],
   "source": [
    "import $ivy.`com.amazonaws:aws-java-sdk:1.11.22`"
   ]
  },
  {
   "cell_type": "code",
   "execution_count": 189,
   "metadata": {},
   "outputs": [
    {
     "data": {
      "text/plain": [
       "\u001b[32mimport \u001b[39m\u001b[36mcom.amazonaws.services.cloudformation.model._\n",
       "\u001b[39m\n",
       "\u001b[32mimport \u001b[39m\u001b[36mcollection.JavaConverters._\n",
       "\n",
       "\u001b[39m\n",
       "\u001b[36mcreate\u001b[39m: \u001b[32mBoolean\u001b[39m = \u001b[32mtrue\u001b[39m\n",
       "\u001b[36mremove\u001b[39m: \u001b[32mBoolean\u001b[39m = \u001b[32mfalse\u001b[39m\n",
       "\u001b[36msuspend\u001b[39m: \u001b[32mBoolean\u001b[39m = \u001b[32mfalse\u001b[39m\n",
       "\u001b[36mresume\u001b[39m: \u001b[32mBoolean\u001b[39m = \u001b[32mfalse\u001b[39m"
      ]
     },
     "execution_count": 189,
     "metadata": {},
     "output_type": "execute_result"
    }
   ],
   "source": [
    "import com.amazonaws.services.cloudformation.model._\n",
    "import collection.JavaConverters._\n",
    "\n",
    "val create  = action  == \"create\"\n",
    "val remove  = action  == \"remove\"\n",
    "val suspend = action  == \"suspend\"\n",
    "val resume  = action  == \"resume\""
   ]
  },
  {
   "cell_type": "code",
   "execution_count": 190,
   "metadata": {},
   "outputs": [
    {
     "data": {
      "text/plain": [
       "\u001b[32mimport \u001b[39m\u001b[36mcom.amazonaws.services._\n",
       "\u001b[39m\n",
       "\u001b[32mimport \u001b[39m\u001b[36mcom.amazonaws.services.cloudformation._\n",
       "\n",
       "\u001b[39m\n",
       "\u001b[36mcf\u001b[39m: \u001b[32mAmazonCloudFormationClient\u001b[39m = com.amazonaws.services.cloudformation.AmazonCloudFormationClient@818851d\n",
       "defined \u001b[32mfunction\u001b[39m \u001b[36mstatus\u001b[39m\n",
       "defined \u001b[32mfunction\u001b[39m \u001b[36mstatusLoop\u001b[39m"
      ]
     },
     "execution_count": 190,
     "metadata": {},
     "output_type": "execute_result"
    }
   ],
   "source": [
    "import com.amazonaws.services._\n",
    "import com.amazonaws.services.cloudformation._\n",
    "\n",
    "val cf = new AmazonCloudFormationClient() \n",
    "def status = {\n",
    "    val stack = cf.describeStacks\n",
    "        .getStacks.asScala\n",
    "        .filter( _.getStackName == stackName).headOption\n",
    "    stack.map(_.getStackStatus)\n",
    "}\n",
    "def statusLoop {\n",
    "    val st = status\n",
    "    message(st.getOrElse(\"-\"))\n",
    "    if(st.nonEmpty && st.get.endsWith(\"_IN_PROGRESS\")) {\n",
    "        Thread.sleep(1000)\n",
    "        statusLoop\n",
    "    }\n",
    "}"
   ]
  },
  {
   "cell_type": "markdown",
   "metadata": {},
   "source": [
    "## Creation"
   ]
  },
  {
   "cell_type": "code",
   "execution_count": 191,
   "metadata": {},
   "outputs": [
    {
     "data": {
      "application/javascript": [
       "$('#output').text(now()+' CREATE_IN_PROGRESS')"
      ]
     },
     "metadata": {},
     "output_type": "display_data"
    },
    {
     "data": {
      "application/javascript": [
       "$('#output').text(now()+' CREATE_IN_PROGRESS')"
      ]
     },
     "metadata": {},
     "output_type": "display_data"
    },
    {
     "data": {
      "application/javascript": [
       "$('#output').text(now()+' CREATE_IN_PROGRESS')"
      ]
     },
     "metadata": {},
     "output_type": "display_data"
    },
    {
     "data": {
      "application/javascript": [
       "$('#output').text(now()+' CREATE_IN_PROGRESS')"
      ]
     },
     "metadata": {},
     "output_type": "display_data"
    },
    {
     "data": {
      "application/javascript": [
       "$('#output').text(now()+' CREATE_IN_PROGRESS')"
      ]
     },
     "metadata": {},
     "output_type": "display_data"
    },
    {
     "data": {
      "application/javascript": [
       "$('#output').text(now()+' CREATE_IN_PROGRESS')"
      ]
     },
     "metadata": {},
     "output_type": "display_data"
    },
    {
     "data": {
      "application/javascript": [
       "$('#output').text(now()+' CREATE_IN_PROGRESS')"
      ]
     },
     "metadata": {},
     "output_type": "display_data"
    },
    {
     "data": {
      "application/javascript": [
       "$('#output').text(now()+' CREATE_IN_PROGRESS')"
      ]
     },
     "metadata": {},
     "output_type": "display_data"
    },
    {
     "data": {
      "application/javascript": [
       "$('#output').text(now()+' CREATE_IN_PROGRESS')"
      ]
     },
     "metadata": {},
     "output_type": "display_data"
    },
    {
     "data": {
      "application/javascript": [
       "$('#output').text(now()+' CREATE_IN_PROGRESS')"
      ]
     },
     "metadata": {},
     "output_type": "display_data"
    },
    {
     "data": {
      "application/javascript": [
       "$('#output').text(now()+' CREATE_IN_PROGRESS')"
      ]
     },
     "metadata": {},
     "output_type": "display_data"
    },
    {
     "data": {
      "application/javascript": [
       "$('#output').text(now()+' CREATE_IN_PROGRESS')"
      ]
     },
     "metadata": {},
     "output_type": "display_data"
    },
    {
     "data": {
      "application/javascript": [
       "$('#output').text(now()+' CREATE_IN_PROGRESS')"
      ]
     },
     "metadata": {},
     "output_type": "display_data"
    },
    {
     "data": {
      "application/javascript": [
       "$('#output').text(now()+' CREATE_IN_PROGRESS')"
      ]
     },
     "metadata": {},
     "output_type": "display_data"
    },
    {
     "data": {
      "application/javascript": [
       "$('#output').text(now()+' CREATE_IN_PROGRESS')"
      ]
     },
     "metadata": {},
     "output_type": "display_data"
    },
    {
     "data": {
      "application/javascript": [
       "$('#output').text(now()+' CREATE_IN_PROGRESS')"
      ]
     },
     "metadata": {},
     "output_type": "display_data"
    },
    {
     "data": {
      "application/javascript": [
       "$('#output').text(now()+' CREATE_IN_PROGRESS')"
      ]
     },
     "metadata": {},
     "output_type": "display_data"
    },
    {
     "data": {
      "application/javascript": [
       "$('#output').text(now()+' CREATE_IN_PROGRESS')"
      ]
     },
     "metadata": {},
     "output_type": "display_data"
    },
    {
     "data": {
      "application/javascript": [
       "$('#output').text(now()+' CREATE_IN_PROGRESS')"
      ]
     },
     "metadata": {},
     "output_type": "display_data"
    },
    {
     "data": {
      "application/javascript": [
       "$('#output').text(now()+' CREATE_IN_PROGRESS')"
      ]
     },
     "metadata": {},
     "output_type": "display_data"
    },
    {
     "data": {
      "application/javascript": [
       "$('#output').text(now()+' CREATE_IN_PROGRESS')"
      ]
     },
     "metadata": {},
     "output_type": "display_data"
    },
    {
     "data": {
      "application/javascript": [
       "$('#output').text(now()+' CREATE_IN_PROGRESS')"
      ]
     },
     "metadata": {},
     "output_type": "display_data"
    },
    {
     "data": {
      "application/javascript": [
       "$('#output').text(now()+' CREATE_IN_PROGRESS')"
      ]
     },
     "metadata": {},
     "output_type": "display_data"
    },
    {
     "data": {
      "application/javascript": [
       "$('#output').text(now()+' CREATE_IN_PROGRESS')"
      ]
     },
     "metadata": {},
     "output_type": "display_data"
    },
    {
     "data": {
      "application/javascript": [
       "$('#output').text(now()+' CREATE_IN_PROGRESS')"
      ]
     },
     "metadata": {},
     "output_type": "display_data"
    },
    {
     "data": {
      "application/javascript": [
       "$('#output').text(now()+' CREATE_IN_PROGRESS')"
      ]
     },
     "metadata": {},
     "output_type": "display_data"
    },
    {
     "data": {
      "application/javascript": [
       "$('#output').text(now()+' CREATE_IN_PROGRESS')"
      ]
     },
     "metadata": {},
     "output_type": "display_data"
    },
    {
     "data": {
      "application/javascript": [
       "$('#output').text(now()+' CREATE_IN_PROGRESS')"
      ]
     },
     "metadata": {},
     "output_type": "display_data"
    },
    {
     "data": {
      "application/javascript": [
       "$('#output').text(now()+' CREATE_IN_PROGRESS')"
      ]
     },
     "metadata": {},
     "output_type": "display_data"
    },
    {
     "data": {
      "application/javascript": [
       "$('#output').text(now()+' CREATE_IN_PROGRESS')"
      ]
     },
     "metadata": {},
     "output_type": "display_data"
    },
    {
     "data": {
      "application/javascript": [
       "$('#output').text(now()+' CREATE_IN_PROGRESS')"
      ]
     },
     "metadata": {},
     "output_type": "display_data"
    },
    {
     "data": {
      "application/javascript": [
       "$('#output').text(now()+' CREATE_IN_PROGRESS')"
      ]
     },
     "metadata": {},
     "output_type": "display_data"
    },
    {
     "data": {
      "application/javascript": [
       "$('#output').text(now()+' CREATE_IN_PROGRESS')"
      ]
     },
     "metadata": {},
     "output_type": "display_data"
    },
    {
     "data": {
      "application/javascript": [
       "$('#output').text(now()+' CREATE_IN_PROGRESS')"
      ]
     },
     "metadata": {},
     "output_type": "display_data"
    },
    {
     "data": {
      "application/javascript": [
       "$('#output').text(now()+' CREATE_IN_PROGRESS')"
      ]
     },
     "metadata": {},
     "output_type": "display_data"
    },
    {
     "data": {
      "application/javascript": [
       "$('#output').text(now()+' CREATE_IN_PROGRESS')"
      ]
     },
     "metadata": {},
     "output_type": "display_data"
    },
    {
     "data": {
      "application/javascript": [
       "$('#output').text(now()+' CREATE_IN_PROGRESS')"
      ]
     },
     "metadata": {},
     "output_type": "display_data"
    },
    {
     "data": {
      "application/javascript": [
       "$('#output').text(now()+' CREATE_IN_PROGRESS')"
      ]
     },
     "metadata": {},
     "output_type": "display_data"
    },
    {
     "data": {
      "application/javascript": [
       "$('#output').text(now()+' CREATE_IN_PROGRESS')"
      ]
     },
     "metadata": {},
     "output_type": "display_data"
    },
    {
     "data": {
      "application/javascript": [
       "$('#output').text(now()+' CREATE_IN_PROGRESS')"
      ]
     },
     "metadata": {},
     "output_type": "display_data"
    },
    {
     "data": {
      "application/javascript": [
       "$('#output').text(now()+' CREATE_IN_PROGRESS')"
      ]
     },
     "metadata": {},
     "output_type": "display_data"
    },
    {
     "data": {
      "application/javascript": [
       "$('#output').text(now()+' CREATE_IN_PROGRESS')"
      ]
     },
     "metadata": {},
     "output_type": "display_data"
    },
    {
     "data": {
      "application/javascript": [
       "$('#output').text(now()+' CREATE_IN_PROGRESS')"
      ]
     },
     "metadata": {},
     "output_type": "display_data"
    },
    {
     "data": {
      "application/javascript": [
       "$('#output').text(now()+' CREATE_IN_PROGRESS')"
      ]
     },
     "metadata": {},
     "output_type": "display_data"
    },
    {
     "data": {
      "application/javascript": [
       "$('#output').text(now()+' CREATE_IN_PROGRESS')"
      ]
     },
     "metadata": {},
     "output_type": "display_data"
    },
    {
     "data": {
      "application/javascript": [
       "$('#output').text(now()+' CREATE_IN_PROGRESS')"
      ]
     },
     "metadata": {},
     "output_type": "display_data"
    },
    {
     "data": {
      "application/javascript": [
       "$('#output').text(now()+' CREATE_IN_PROGRESS')"
      ]
     },
     "metadata": {},
     "output_type": "display_data"
    },
    {
     "data": {
      "application/javascript": [
       "$('#output').text(now()+' CREATE_IN_PROGRESS')"
      ]
     },
     "metadata": {},
     "output_type": "display_data"
    },
    {
     "data": {
      "application/javascript": [
       "$('#output').text(now()+' CREATE_IN_PROGRESS')"
      ]
     },
     "metadata": {},
     "output_type": "display_data"
    },
    {
     "data": {
      "application/javascript": [
       "$('#output').text(now()+' CREATE_IN_PROGRESS')"
      ]
     },
     "metadata": {},
     "output_type": "display_data"
    },
    {
     "data": {
      "application/javascript": [
       "$('#output').text(now()+' CREATE_IN_PROGRESS')"
      ]
     },
     "metadata": {},
     "output_type": "display_data"
    },
    {
     "data": {
      "application/javascript": [
       "$('#output').text(now()+' CREATE_IN_PROGRESS')"
      ]
     },
     "metadata": {},
     "output_type": "display_data"
    },
    {
     "data": {
      "application/javascript": [
       "$('#output').text(now()+' CREATE_IN_PROGRESS')"
      ]
     },
     "metadata": {},
     "output_type": "display_data"
    },
    {
     "data": {
      "application/javascript": [
       "$('#output').text(now()+' CREATE_IN_PROGRESS')"
      ]
     },
     "metadata": {},
     "output_type": "display_data"
    },
    {
     "data": {
      "application/javascript": [
       "$('#output').text(now()+' CREATE_IN_PROGRESS')"
      ]
     },
     "metadata": {},
     "output_type": "display_data"
    },
    {
     "data": {
      "application/javascript": [
       "$('#output').text(now()+' CREATE_IN_PROGRESS')"
      ]
     },
     "metadata": {},
     "output_type": "display_data"
    },
    {
     "data": {
      "application/javascript": [
       "$('#output').text(now()+' CREATE_IN_PROGRESS')"
      ]
     },
     "metadata": {},
     "output_type": "display_data"
    },
    {
     "data": {
      "application/javascript": [
       "$('#output').text(now()+' CREATE_IN_PROGRESS')"
      ]
     },
     "metadata": {},
     "output_type": "display_data"
    },
    {
     "data": {
      "application/javascript": [
       "$('#output').text(now()+' CREATE_IN_PROGRESS')"
      ]
     },
     "metadata": {},
     "output_type": "display_data"
    },
    {
     "data": {
      "application/javascript": [
       "$('#output').text(now()+' CREATE_IN_PROGRESS')"
      ]
     },
     "metadata": {},
     "output_type": "display_data"
    },
    {
     "data": {
      "application/javascript": [
       "$('#output').text(now()+' CREATE_IN_PROGRESS')"
      ]
     },
     "metadata": {},
     "output_type": "display_data"
    },
    {
     "data": {
      "application/javascript": [
       "$('#output').text(now()+' CREATE_IN_PROGRESS')"
      ]
     },
     "metadata": {},
     "output_type": "display_data"
    },
    {
     "data": {
      "application/javascript": [
       "$('#output').text(now()+' CREATE_IN_PROGRESS')"
      ]
     },
     "metadata": {},
     "output_type": "display_data"
    },
    {
     "data": {
      "application/javascript": [
       "$('#output').text(now()+' CREATE_IN_PROGRESS')"
      ]
     },
     "metadata": {},
     "output_type": "display_data"
    },
    {
     "data": {
      "application/javascript": [
       "$('#output').text(now()+' CREATE_IN_PROGRESS')"
      ]
     },
     "metadata": {},
     "output_type": "display_data"
    },
    {
     "data": {
      "application/javascript": [
       "$('#output').text(now()+' CREATE_IN_PROGRESS')"
      ]
     },
     "metadata": {},
     "output_type": "display_data"
    },
    {
     "data": {
      "application/javascript": [
       "$('#output').text(now()+' CREATE_IN_PROGRESS')"
      ]
     },
     "metadata": {},
     "output_type": "display_data"
    },
    {
     "data": {
      "application/javascript": [
       "$('#output').text(now()+' CREATE_IN_PROGRESS')"
      ]
     },
     "metadata": {},
     "output_type": "display_data"
    },
    {
     "data": {
      "application/javascript": [
       "$('#output').text(now()+' CREATE_IN_PROGRESS')"
      ]
     },
     "metadata": {},
     "output_type": "display_data"
    },
    {
     "data": {
      "application/javascript": [
       "$('#output').text(now()+' CREATE_IN_PROGRESS')"
      ]
     },
     "metadata": {},
     "output_type": "display_data"
    },
    {
     "data": {
      "application/javascript": [
       "$('#output').text(now()+' CREATE_IN_PROGRESS')"
      ]
     },
     "metadata": {},
     "output_type": "display_data"
    },
    {
     "data": {
      "application/javascript": [
       "$('#output').text(now()+' CREATE_IN_PROGRESS')"
      ]
     },
     "metadata": {},
     "output_type": "display_data"
    },
    {
     "data": {
      "application/javascript": [
       "$('#output').text(now()+' CREATE_IN_PROGRESS')"
      ]
     },
     "metadata": {},
     "output_type": "display_data"
    },
    {
     "data": {
      "application/javascript": [
       "$('#output').text(now()+' CREATE_IN_PROGRESS')"
      ]
     },
     "metadata": {},
     "output_type": "display_data"
    },
    {
     "data": {
      "application/javascript": [
       "$('#output').text(now()+' CREATE_IN_PROGRESS')"
      ]
     },
     "metadata": {},
     "output_type": "display_data"
    },
    {
     "data": {
      "application/javascript": [
       "$('#output').text(now()+' CREATE_IN_PROGRESS')"
      ]
     },
     "metadata": {},
     "output_type": "display_data"
    },
    {
     "data": {
      "application/javascript": [
       "$('#output').text(now()+' CREATE_IN_PROGRESS')"
      ]
     },
     "metadata": {},
     "output_type": "display_data"
    },
    {
     "data": {
      "application/javascript": [
       "$('#output').text(now()+' CREATE_IN_PROGRESS')"
      ]
     },
     "metadata": {},
     "output_type": "display_data"
    },
    {
     "data": {
      "application/javascript": [
       "$('#output').text(now()+' CREATE_IN_PROGRESS')"
      ]
     },
     "metadata": {},
     "output_type": "display_data"
    },
    {
     "data": {
      "application/javascript": [
       "$('#output').text(now()+' CREATE_IN_PROGRESS')"
      ]
     },
     "metadata": {},
     "output_type": "display_data"
    },
    {
     "data": {
      "application/javascript": [
       "$('#output').text(now()+' CREATE_IN_PROGRESS')"
      ]
     },
     "metadata": {},
     "output_type": "display_data"
    },
    {
     "data": {
      "application/javascript": [
       "$('#output').text(now()+' CREATE_IN_PROGRESS')"
      ]
     },
     "metadata": {},
     "output_type": "display_data"
    },
    {
     "data": {
      "application/javascript": [
       "$('#output').text(now()+' CREATE_IN_PROGRESS')"
      ]
     },
     "metadata": {},
     "output_type": "display_data"
    },
    {
     "data": {
      "application/javascript": [
       "$('#output').text(now()+' CREATE_IN_PROGRESS')"
      ]
     },
     "metadata": {},
     "output_type": "display_data"
    },
    {
     "data": {
      "application/javascript": [
       "$('#output').text(now()+' CREATE_IN_PROGRESS')"
      ]
     },
     "metadata": {},
     "output_type": "display_data"
    },
    {
     "data": {
      "application/javascript": [
       "$('#output').text(now()+' CREATE_IN_PROGRESS')"
      ]
     },
     "metadata": {},
     "output_type": "display_data"
    },
    {
     "data": {
      "application/javascript": [
       "$('#output').text(now()+' CREATE_IN_PROGRESS')"
      ]
     },
     "metadata": {},
     "output_type": "display_data"
    },
    {
     "data": {
      "application/javascript": [
       "$('#output').text(now()+' CREATE_IN_PROGRESS')"
      ]
     },
     "metadata": {},
     "output_type": "display_data"
    },
    {
     "data": {
      "application/javascript": [
       "$('#output').text(now()+' CREATE_IN_PROGRESS')"
      ]
     },
     "metadata": {},
     "output_type": "display_data"
    },
    {
     "data": {
      "application/javascript": [
       "$('#output').text(now()+' CREATE_IN_PROGRESS')"
      ]
     },
     "metadata": {},
     "output_type": "display_data"
    },
    {
     "data": {
      "application/javascript": [
       "$('#output').text(now()+' CREATE_IN_PROGRESS')"
      ]
     },
     "metadata": {},
     "output_type": "display_data"
    },
    {
     "data": {
      "application/javascript": [
       "$('#output').text(now()+' CREATE_IN_PROGRESS')"
      ]
     },
     "metadata": {},
     "output_type": "display_data"
    },
    {
     "data": {
      "application/javascript": [
       "$('#output').text(now()+' CREATE_IN_PROGRESS')"
      ]
     },
     "metadata": {},
     "output_type": "display_data"
    },
    {
     "data": {
      "application/javascript": [
       "$('#output').text(now()+' CREATE_IN_PROGRESS')"
      ]
     },
     "metadata": {},
     "output_type": "display_data"
    },
    {
     "data": {
      "application/javascript": [
       "$('#output').text(now()+' CREATE_IN_PROGRESS')"
      ]
     },
     "metadata": {},
     "output_type": "display_data"
    },
    {
     "data": {
      "application/javascript": [
       "$('#output').text(now()+' CREATE_IN_PROGRESS')"
      ]
     },
     "metadata": {},
     "output_type": "display_data"
    },
    {
     "data": {
      "application/javascript": [
       "$('#output').text(now()+' CREATE_IN_PROGRESS')"
      ]
     },
     "metadata": {},
     "output_type": "display_data"
    },
    {
     "data": {
      "application/javascript": [
       "$('#output').text(now()+' CREATE_IN_PROGRESS')"
      ]
     },
     "metadata": {},
     "output_type": "display_data"
    },
    {
     "data": {
      "application/javascript": [
       "$('#output').text(now()+' CREATE_IN_PROGRESS')"
      ]
     },
     "metadata": {},
     "output_type": "display_data"
    },
    {
     "data": {
      "application/javascript": [
       "$('#output').text(now()+' CREATE_IN_PROGRESS')"
      ]
     },
     "metadata": {},
     "output_type": "display_data"
    },
    {
     "data": {
      "application/javascript": [
       "$('#output').text(now()+' CREATE_IN_PROGRESS')"
      ]
     },
     "metadata": {},
     "output_type": "display_data"
    },
    {
     "data": {
      "application/javascript": [
       "$('#output').text(now()+' CREATE_IN_PROGRESS')"
      ]
     },
     "metadata": {},
     "output_type": "display_data"
    },
    {
     "data": {
      "application/javascript": [
       "$('#output').text(now()+' CREATE_IN_PROGRESS')"
      ]
     },
     "metadata": {},
     "output_type": "display_data"
    },
    {
     "data": {
      "application/javascript": [
       "$('#output').text(now()+' CREATE_IN_PROGRESS')"
      ]
     },
     "metadata": {},
     "output_type": "display_data"
    },
    {
     "data": {
      "application/javascript": [
       "$('#output').text(now()+' CREATE_IN_PROGRESS')"
      ]
     },
     "metadata": {},
     "output_type": "display_data"
    },
    {
     "data": {
      "application/javascript": [
       "$('#output').text(now()+' CREATE_IN_PROGRESS')"
      ]
     },
     "metadata": {},
     "output_type": "display_data"
    },
    {
     "data": {
      "application/javascript": [
       "$('#output').text(now()+' CREATE_IN_PROGRESS')"
      ]
     },
     "metadata": {},
     "output_type": "display_data"
    },
    {
     "data": {
      "application/javascript": [
       "$('#output').text(now()+' CREATE_IN_PROGRESS')"
      ]
     },
     "metadata": {},
     "output_type": "display_data"
    },
    {
     "data": {
      "application/javascript": [
       "$('#output').text(now()+' CREATE_IN_PROGRESS')"
      ]
     },
     "metadata": {},
     "output_type": "display_data"
    },
    {
     "data": {
      "application/javascript": [
       "$('#output').text(now()+' CREATE_IN_PROGRESS')"
      ]
     },
     "metadata": {},
     "output_type": "display_data"
    },
    {
     "data": {
      "application/javascript": [
       "$('#output').text(now()+' CREATE_IN_PROGRESS')"
      ]
     },
     "metadata": {},
     "output_type": "display_data"
    },
    {
     "data": {
      "application/javascript": [
       "$('#output').text(now()+' CREATE_IN_PROGRESS')"
      ]
     },
     "metadata": {},
     "output_type": "display_data"
    },
    {
     "data": {
      "application/javascript": [
       "$('#output').text(now()+' CREATE_IN_PROGRESS')"
      ]
     },
     "metadata": {},
     "output_type": "display_data"
    },
    {
     "data": {
      "application/javascript": [
       "$('#output').text(now()+' CREATE_IN_PROGRESS')"
      ]
     },
     "metadata": {},
     "output_type": "display_data"
    },
    {
     "data": {
      "application/javascript": [
       "$('#output').text(now()+' CREATE_IN_PROGRESS')"
      ]
     },
     "metadata": {},
     "output_type": "display_data"
    },
    {
     "data": {
      "application/javascript": [
       "$('#output').text(now()+' CREATE_COMPLETE')"
      ]
     },
     "metadata": {},
     "output_type": "display_data"
    },
    {
     "data": {
      "text/plain": [
       "\u001b[32mimport \u001b[39m\u001b[36mscala.io._\n",
       "\u001b[39m\n",
       "\u001b[32mimport \u001b[39m\u001b[36mcom.amazonaws.services.cloudformation.model._\n",
       "\n",
       "\u001b[39m\n",
       "\u001b[36mcf\u001b[39m: \u001b[32mAmazonCloudFormationClient\u001b[39m = com.amazonaws.services.cloudformation.AmazonCloudFormationClient@27278a3d\n",
       "defined \u001b[32mfunction\u001b[39m \u001b[36mcreateRequest\u001b[39m"
      ]
     },
     "execution_count": 191,
     "metadata": {},
     "output_type": "execute_result"
    }
   ],
   "source": [
    "// read template\n",
    "import scala.io._\n",
    "import com.amazonaws.services.cloudformation.model._\n",
    "\n",
    "val cf = new cloudformation.AmazonCloudFormationClient\n",
    "\n",
    "// create\n",
    "def createRequest() = {\n",
    "    import com.amazonaws.services.cloudformation._\n",
    "    import com.amazonaws.services.cloudformation.model._\n",
    "    val cfr = new CreateStackRequest()\n",
    "    cfr.setStackName(stackName)\n",
    "    val params =  Seq(\n",
    "      new Parameter().withParameterKey(\"KeyName\").withParameterValue(keyName),\n",
    "      new Parameter().withParameterKey(\"InstanceType\").withParameterValue(instanceType),\n",
    "      new Parameter().withParameterKey(\"ImageId\").withParameterValue(imageId)    \n",
    "    ) \n",
    "    cfr.setParameters(params.asJava)\n",
    "    cfr\n",
    "}\n",
    "\n",
    "if(create) {\n",
    "    val cfr = createRequest()\n",
    "    val body = Source.fromFile(template.toString).getLines.mkString(\"\\n\")\n",
    "    cfr.setTemplateBody(body)\n",
    "    // run request\n",
    "    val res = cf.createStack(cfr)\n",
    "    statusLoop\n",
    "}"
   ]
  },
  {
   "cell_type": "markdown",
   "metadata": {},
   "source": [
    "## Cleanup"
   ]
  },
  {
   "cell_type": "code",
   "execution_count": 192,
   "metadata": {},
   "outputs": [
    {
     "data": {
      "text/plain": [
       "defined \u001b[32mfunction\u001b[39m \u001b[36mremoveRequest\u001b[39m"
      ]
     },
     "execution_count": 192,
     "metadata": {},
     "output_type": "execute_result"
    }
   ],
   "source": [
    "// remove\n",
    "def removeRequest() = \n",
    "    new DeleteStackRequest().withStackName(stackName)\n",
    "\n",
    "if(remove) { \n",
    "    cf.deleteStack(removeRequest())\n",
    "    statusLoop\n",
    "}\n",
    "\n",
    "//removeRequest()"
   ]
  },
  {
   "cell_type": "markdown",
   "metadata": {},
   "source": [
    "## Building the inventory"
   ]
  },
  {
   "cell_type": "code",
   "execution_count": 193,
   "metadata": {
    "scrolled": true
   },
   "outputs": [
    {
     "data": {
      "text/plain": [
       "\u001b[32mimport \u001b[39m\u001b[36mcom.amazonaws.services.ec2._\n",
       "\u001b[39m\n",
       "\u001b[32mimport \u001b[39m\u001b[36mcom.amazonaws.regions.Region\n",
       "\n",
       "\u001b[39m\n",
       "\u001b[36mec2\u001b[39m: \u001b[32mAmazonEC2Client\u001b[39m = com.amazonaws.services.ec2.AmazonEC2Client@6a441a44\n",
       "\u001b[36mregions\u001b[39m: \u001b[32mRegions\u001b[39m = US_EAST_1"
      ]
     },
     "execution_count": 193,
     "metadata": {},
     "output_type": "execute_result"
    }
   ],
   "source": [
    "import com.amazonaws.services.ec2._\n",
    "import com.amazonaws.regions.Region\n",
    "\n",
    "val ec2 = new AmazonEC2Client()\n",
    "val regions = Regions.fromName(region)\n",
    "ec2.setRegion(Region.getRegion(regions))"
   ]
  },
  {
   "cell_type": "code",
   "execution_count": 210,
   "metadata": {},
   "outputs": [
    {
     "data": {
      "text/plain": [
       "\u001b[32mimport \u001b[39m\u001b[36mcollection.JavaConverters._\n",
       "\n",
       "\u001b[39m\n",
       "\u001b[36minstances\u001b[39m: \u001b[32mcollection\u001b[39m.\u001b[32mmutable\u001b[39m.\u001b[32mBuffer\u001b[39m[\u001b[32mInstance\u001b[39m] = \u001b[33mArrayBuffer\u001b[39m(\n",
       "  {InstanceId: i-0b61965d913df17ad,ImageId: ami-10f53a06,State: {Code: 16,Name: running},PrivateDnsName: ip-10-0-0-55.ec2.internal,PublicDnsName: ,StateTransitionReason: ,KeyName: atomic,AmiLaunchIndex: 0,ProductCodes: [],InstanceType: t2.small,LaunchTime: Fri Apr 14 14:34:33 CEST 2017,Placement: {AvailabilityZone: us-east-1d,GroupName: ,Tenancy: default,},Monitoring: {State: disabled},SubnetId: subnet-bde1b1d8,VpcId: vpc-f57b7893,PrivateIpAddress: 10.0.0.55,PublicIpAddress: 34.201.193.95,Architecture: x86_64,RootDeviceType: ebs,RootDeviceName: /dev/sda1,BlockDeviceMappings: [{DeviceName: /dev/sda1,Ebs: {VolumeId: vol-05af7d9eb3b487c9d,Status: attached,AttachTime: Fri Apr 14 14:34:34 CEST 2017,DeleteOnTermination: false}}],VirtualizationType: hvm,ClientToken: test-Master-DSDT14T074QI,Tags: [{Key: Application,Value: arn:aws:cloudformation:us-east-1:794403675119:stack/t\u001b[33m...\u001b[39m\n",
       "\u001b[36mids\u001b[39m: \u001b[32mcollection\u001b[39m.\u001b[32mmutable\u001b[39m.\u001b[32mBuffer\u001b[39m[\u001b[32mString\u001b[39m] = \u001b[33mArrayBuffer\u001b[39m(\u001b[32m\"i-0b61965d913df17ad\"\u001b[39m, \u001b[32m\"i-06a92ac1ce5988ce5\"\u001b[39m, \u001b[32m\"i-0ecf8fde5c1026bbb\"\u001b[39m)\n",
       "\u001b[36mstopped\u001b[39m: \u001b[32mcollection\u001b[39m.\u001b[32mmutable\u001b[39m.\u001b[32mBuffer\u001b[39m[\u001b[32mString\u001b[39m] = \u001b[33mArrayBuffer\u001b[39m()"
      ]
     },
     "execution_count": 210,
     "metadata": {},
     "output_type": "execute_result"
    }
   ],
   "source": [
    "import collection.JavaConverters._\n",
    "\n",
    "val instances = for {\n",
    " reservation <- ec2.describeInstances.getReservations.asScala\n",
    " instance <- reservation.getInstances.asScala\n",
    "} yield {\n",
    "    instance\n",
    "}\n",
    "val ids = instances.filter(_.getState.getName == \"running\").map(_.getInstanceId)\n",
    "val stopped = instances.filter(_.getState.getName == \"stopped\").map(_.getInstanceId)\n",
    "\n"
   ]
  },
  {
   "cell_type": "code",
   "execution_count": 202,
   "metadata": {},
   "outputs": [
    {
     "data": {
      "text/plain": [
       "\u001b[32mimport \u001b[39m\u001b[36mcom.amazonaws.services.ec2.model._\n",
       "\u001b[39m\n",
       "\u001b[32mimport \u001b[39m\u001b[36mcollection.JavaConverters._\n",
       "\n",
       "\u001b[39m\n",
       "\u001b[36msusp\u001b[39m: \u001b[32mAny\u001b[39m = None\n",
       "\u001b[36mresm\u001b[39m: \u001b[32mAny\u001b[39m = None"
      ]
     },
     "execution_count": 202,
     "metadata": {},
     "output_type": "execute_result"
    }
   ],
   "source": [
    "import com.amazonaws.services.ec2.model._\n",
    "import collection.JavaConverters._\n",
    "\n",
    "val susp = if(suspend) {\n",
    "    Some(ec2.stopInstances(new StopInstancesRequest(ids.asJava)))\n",
    "    message(\"SUSPENDING\")\n",
    "} else None\n",
    "\n",
    "val resm = if(resume) {\n",
    "     Some(ec2.startInstances(new StartInstancesRequest(stopped.asJava)))\n",
    "     message(\"RESUMING\")\n",
    "} else None"
   ]
  },
  {
   "cell_type": "code",
   "execution_count": 211,
   "metadata": {},
   "outputs": [
    {
     "name": "stdout",
     "output_type": "stream",
     "text": [
      "\u001b[33mList\u001b[39m(\n",
      "  \u001b[32m\"[all:vars]\"\u001b[39m,\n",
      "  \u001b[32m\"kube_master_host=34.201.193.95\"\u001b[39m,\n",
      "  \u001b[32m\"kube_master=10.0.0.55\"\u001b[39m,\n",
      "  \u001b[32m\"[aws]\"\u001b[39m,\n",
      "  \u001b[32m\"34.201.193.95\"\u001b[39m,\n",
      "  \u001b[32m\"34.201.18.231\"\u001b[39m,\n",
      "  \u001b[32m\"34.201.7.210\"\u001b[39m,\n",
      "  \u001b[32m\"[masters]\"\u001b[39m,\n",
      "  \u001b[32m\"34.201.193.95 local_ip=10.0.0.55\"\u001b[39m,\n",
      "  \u001b[32m\"[nodes]\"\u001b[39m,\n",
      "  \u001b[32m\"34.201.18.231 local_ip=10.0.0.106\"\u001b[39m,\n",
      "  \u001b[32m\"34.201.7.210 local_ip=10.0.0.56\"\u001b[39m\n",
      ")\n"
     ]
    },
    {
     "data": {
      "text/plain": [
       "\u001b[32mimport \u001b[39m\u001b[36mcollection.JavaConverters._\n",
       "\n",
       "//val reservation = ec2.describeInstances.getReservations.asScala\n",
       "\u001b[39m"
      ]
     },
     "execution_count": 211,
     "metadata": {},
     "output_type": "execute_result"
    }
   ],
   "source": [
    "import collection.JavaConverters._\n",
    "\n",
    "//val reservation = ec2.describeInstances.getReservations.asScala\n",
    "if(resume || create) {\n",
    "    val ips = for {\n",
    "     reservation <- ec2.describeInstances.getReservations.asScala\n",
    "     instance <- reservation.getInstances.asScala\n",
    "     if instance.getState.getName == \"running\"\n",
    "    } yield {\n",
    "        instance.getPrivateIpAddress -> instance.getPublicIpAddress\n",
    "    }\n",
    "\n",
    "    val inventory = Seq(\n",
    "            \"[all:vars]\",\n",
    "            s\"kube_master_host=${ips.head._2}\",\n",
    "            s\"kube_master=${ips.head._1}\",    \n",
    "            \"[aws]\"\n",
    "        ) ++ ips.map(_._2) ++\n",
    "          Seq(\"[masters]\", s\"${ips.head._2} local_ip=${ips.head._1}\") ++\n",
    "          Seq(\"[nodes]\") ++\n",
    "          ips.tail.map(t => s\"${t._2} local_ip=${t._1}\")\n",
    "\n",
    "    val inv = pwd/up/'aws/\"inventory\"\n",
    "    rm! inv\n",
    "    write(inv, inventory.mkString(\"\\n\"))\n",
    "    show(inventory)\n",
    "}"
   ]
  },
  {
   "cell_type": "code",
   "execution_count": 213,
   "metadata": {},
   "outputs": [
    {
     "name": "stdout",
     "output_type": "stream",
     "text": [
      "\n",
      "    apiVersion: v1\n",
      "    clusters:\n",
      "    - cluster:\n",
      "        server: http://34.201.193.95:8080\n",
      "      name: aws\n",
      "    contexts:\n",
      "    - context:\n",
      "        cluster: aws\n",
      "        user: \"\"\n",
      "      name: aws\n",
      "    current-context: aws\n",
      "    \n"
     ]
    }
   ],
   "source": [
    "if(resume || create) {\n",
    "     val ips = for {\n",
    "     reservation <- ec2.describeInstances.getReservations.asScala\n",
    "     instance <- reservation.getInstances.asScala\n",
    "     if instance.getState.getName == \"running\"\n",
    "    } yield {\n",
    "        instance.getPrivateIpAddress -> instance.getPublicIpAddress\n",
    "    }\n",
    "    val kubecfg = s\"\"\"\n",
    "    apiVersion: v1\n",
    "    clusters:\n",
    "    - cluster:\n",
    "        server: http://${ips.head._2}:8080\n",
    "      name: aws\n",
    "    contexts:\n",
    "    - context:\n",
    "        cluster: aws\n",
    "        user: \"\"\n",
    "      name: aws\n",
    "    current-context: aws\n",
    "    \"\"\"\n",
    "    println(kubecfg)\n",
    "    val cfg = pwd/up/'aws/\"kubeconfig\"\n",
    "    rm! cfg\n",
    "    write(cfg, kubecfg)\n",
    "}"
   ]
  },
  {
   "cell_type": "code",
   "execution_count": 208,
   "metadata": {},
   "outputs": [
    {
     "data": {
      "text/plain": [
       "\u001b[36mres207\u001b[39m: \u001b[32mcollection\u001b[39m.\u001b[32mmutable\u001b[39m.\u001b[32mBuffer\u001b[39m[(\u001b[32mString\u001b[39m, \u001b[32mString\u001b[39m)] = \u001b[33mArrayBuffer\u001b[39m(\n",
       "  (\u001b[32m\"10.0.0.102\"\u001b[39m, \u001b[32m\"34.195.120.75\"\u001b[39m),\n",
       "  (\u001b[32m\"10.0.0.42\"\u001b[39m, \u001b[32m\"54.89.149.59\"\u001b[39m),\n",
       "  (\u001b[32m\"10.0.0.219\"\u001b[39m, \u001b[32m\"54.92.185.245\"\u001b[39m)\n",
       ")"
      ]
     },
     "execution_count": 208,
     "metadata": {},
     "output_type": "execute_result"
    }
   ],
   "source": []
  },
  {
   "cell_type": "code",
   "execution_count": null,
   "metadata": {
    "collapsed": true
   },
   "outputs": [],
   "source": []
  }
 ],
 "metadata": {
  "kernelspec": {
   "display_name": "Scala",
   "language": "scala",
   "name": "scala"
  },
  "language_info": {
   "codemirror_mode": "text/x-scala",
   "file_extension": ".scala",
   "mimetype": "text/x-scala",
   "name": "scala211",
   "nbconvert_exporter": "script",
   "pygments_lexer": "scala",
   "version": "2.11.8"
  }
 },
 "nbformat": 4,
 "nbformat_minor": 1
}
