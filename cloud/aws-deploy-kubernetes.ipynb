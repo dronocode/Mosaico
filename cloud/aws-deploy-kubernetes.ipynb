{
 "cells": [
  {
   "cell_type": "code",
   "execution_count": 19,
   "metadata": {},
   "outputs": [
    {
     "data": {
      "text/plain": [
       "\u001b[32mimport \u001b[39m\u001b[36m$ivy.$                                   \u001b[39m"
      ]
     },
     "execution_count": 19,
     "metadata": {},
     "output_type": "execute_result"
    }
   ],
   "source": [
    "import $ivy.`com.amazonaws:aws-java-sdk:1.11.22`"
   ]
  },
  {
   "cell_type": "code",
   "execution_count": 20,
   "metadata": {},
   "outputs": [
    {
     "data": {
      "text/plain": [
       "\u001b[36mregion\u001b[39m: \u001b[32mString\u001b[39m = \u001b[32m\"us-east-1\"\u001b[39m"
      ]
     },
     "execution_count": 20,
     "metadata": {},
     "output_type": "execute_result"
    }
   ],
   "source": [
    "val region = \"us-east-1\""
   ]
  },
  {
   "cell_type": "code",
   "execution_count": 21,
   "metadata": {},
   "outputs": [
    {
     "data": {
      "text/plain": [
       "\u001b[32mimport \u001b[39m\u001b[36mcom.amazonaws.services.ec2._\n",
       "\u001b[39m\n",
       "\u001b[32mimport \u001b[39m\u001b[36mcom.amazonaws.regions._\n",
       "\u001b[39m\n",
       "\u001b[36mec2\u001b[39m: \u001b[32mAmazonEC2Client\u001b[39m = com.amazonaws.services.ec2.AmazonEC2Client@55c1ae8f\n",
       "\u001b[36mregions\u001b[39m: \u001b[32mRegions\u001b[39m = US_EAST_1"
      ]
     },
     "execution_count": 21,
     "metadata": {},
     "output_type": "execute_result"
    }
   ],
   "source": [
    "import com.amazonaws.services.ec2._\n",
    "import com.amazonaws.regions._\n",
    "val ec2 = new AmazonEC2Client()\n",
    "val regions = Regions.fromName(region)\n",
    "ec2.setRegion(Region.getRegion(regions))"
   ]
  },
  {
   "cell_type": "code",
   "execution_count": 22,
   "metadata": {},
   "outputs": [
    {
     "data": {
      "text/plain": [
       "\u001b[32mimport \u001b[39m\u001b[36mcollection.JavaConverters._\n",
       "\n",
       "\u001b[39m\n",
       "\u001b[36minstances\u001b[39m: \u001b[32mcollection\u001b[39m.\u001b[32mmutable\u001b[39m.\u001b[32mBuffer\u001b[39m[\u001b[32mmodel\u001b[39m.\u001b[32mInstance\u001b[39m] = \u001b[33mArrayBuffer\u001b[39m(\n",
       "  {InstanceId: i-0b61965d913df17ad,ImageId: ami-10f53a06,State: {Code: 48,Name: terminated},PrivateDnsName: ,PublicDnsName: ,StateTransitionReason: User initiated (2017-04-18 13:57:07 GMT),KeyName: atomic,AmiLaunchIndex: 0,ProductCodes: [],InstanceType: t2.small,LaunchTime: Sat Apr 15 09:22:55 CEST 2017,Placement: {AvailabilityZone: us-east-1d,GroupName: ,Tenancy: default,},Monitoring: {State: disabled},StateReason: {Code: Client.UserInitiatedShutdown,Message: Client.UserInitiatedShutdown: User initiated shutdown},Architecture: x86_64,RootDeviceType: ebs,RootDeviceName: /dev/sda1,BlockDeviceMappings: [],VirtualizationType: hvm,ClientToken: test-Master-DSDT14T074QI,Tags: [{Key: Application,Value: arn:aws:cloudformation:us-east-1:794403675119:stack/test/984818d0-210e-11e7-932e-50d5cd0dfcc6}, {Key: aws:cloudformation:stack-name,Value: test}, {Key: aws:cloudformation:logi\u001b[33m...\u001b[39m\n",
       "\u001b[36mids\u001b[39m: \u001b[32mcollection\u001b[39m.\u001b[32mmutable\u001b[39m.\u001b[32mBuffer\u001b[39m[\u001b[32mString\u001b[39m] = \u001b[33mArrayBuffer\u001b[39m(\u001b[32m\"i-0e57450d7ec2609c8\"\u001b[39m, \u001b[32m\"i-09a54dce4c01a358c\"\u001b[39m, \u001b[32m\"i-0507f0a764a67bf8d\"\u001b[39m)\n",
       "\u001b[36mstopped\u001b[39m: \u001b[32mcollection\u001b[39m.\u001b[32mmutable\u001b[39m.\u001b[32mBuffer\u001b[39m[\u001b[32mString\u001b[39m] = \u001b[33mArrayBuffer\u001b[39m()\n",
       "\u001b[36mips\u001b[39m: \u001b[32mcollection\u001b[39m.\u001b[32mmutable\u001b[39m.\u001b[32mBuffer\u001b[39m[(\u001b[32mString\u001b[39m, \u001b[32mString\u001b[39m)] = \u001b[33mArrayBuffer\u001b[39m(\n",
       "  (\u001b[32m\"10.0.0.73\"\u001b[39m, \u001b[32m\"50.16.73.7\"\u001b[39m),\n",
       "  (\u001b[32m\"10.0.0.199\"\u001b[39m, \u001b[32m\"52.207.57.11\"\u001b[39m),\n",
       "  (\u001b[32m\"10.0.0.102\"\u001b[39m, \u001b[32m\"54.236.43.68\"\u001b[39m)\n",
       ")"
      ]
     },
     "execution_count": 22,
     "metadata": {},
     "output_type": "execute_result"
    }
   ],
   "source": [
    "import collection.JavaConverters._\n",
    "\n",
    "val instances = for {\n",
    " reservation <- ec2.describeInstances.getReservations.asScala\n",
    " instance <- reservation.getInstances.asScala\n",
    "} yield {\n",
    "    instance\n",
    "}\n",
    "val ids = instances.filter(_.getState.getName == \"running\").map(_.getInstanceId)\n",
    "val stopped = instances.filter(_.getState.getName == \"stopped\").map(_.getInstanceId)\n",
    "val ips = instances.filter(_.getState.getName == \"running\").map(i => i.getPrivateIpAddress -> i.getPublicIpAddress)"
   ]
  },
  {
   "cell_type": "markdown",
   "metadata": {},
   "source": [
    "# Building the inventory"
   ]
  },
  {
   "cell_type": "code",
   "execution_count": 23,
   "metadata": {},
   "outputs": [
    {
     "data": {
      "text/plain": [
       "\u001b[36minventory\u001b[39m: \u001b[32mSeq\u001b[39m[\u001b[32mString\u001b[39m] = \u001b[33mList\u001b[39m(\n",
       "  \u001b[32m\"[all:vars]\"\u001b[39m,\n",
       "  \u001b[32m\"kube_master_host=50.16.73.7\"\u001b[39m,\n",
       "  \u001b[32m\"kube_master=10.0.0.73\"\u001b[39m,\n",
       "  \u001b[32m\"[aws]\"\u001b[39m,\n",
       "  \u001b[32m\"50.16.73.7 local_ip=10.0.0.73\"\u001b[39m,\n",
       "  \u001b[32m\"52.207.57.11 local_ip=10.0.0.199\"\u001b[39m,\n",
       "  \u001b[32m\"54.236.43.68 local_ip=10.0.0.102\"\u001b[39m,\n",
       "  \u001b[32m\"[masters]\"\u001b[39m,\n",
       "  \u001b[32m\"50.16.73.7 local_ip=10.0.0.73\"\u001b[39m,\n",
       "  \u001b[32m\"[nodes]\"\u001b[39m,\n",
       "  \u001b[32m\"52.207.57.11 local_ip=10.0.0.199\"\u001b[39m,\n",
       "\u001b[33m...\u001b[39m"
      ]
     },
     "execution_count": 23,
     "metadata": {},
     "output_type": "execute_result"
    }
   ],
   "source": [
    "val inventory = Seq(\n",
    "            \"[all:vars]\",\n",
    "            s\"kube_master_host=${ips.head._2}\",\n",
    "            s\"kube_master=${ips.head._1}\",    \n",
    "            \"[aws]\"\n",
    "        ) ++ ips.map(x => s\"${x._2} local_ip=${x._1}\") ++\n",
    "          Seq(\"[masters]\", s\"${ips.head._2} local_ip=${ips.head._1}\") ++\n",
    "          Seq(\"[nodes]\") ++\n",
    "          ips.tail.map(t => s\"${t._2} local_ip=${t._1}\")\n"
   ]
  },
  {
   "cell_type": "code",
   "execution_count": 24,
   "metadata": {},
   "outputs": [
    {
     "name": "stdout",
     "output_type": "stream",
     "text": [
      "\u001b[33mList\u001b[39m(\n",
      "  \u001b[32m\"[all:vars]\"\u001b[39m,\n",
      "  \u001b[32m\"kube_master_host=50.16.73.7\"\u001b[39m,\n",
      "  \u001b[32m\"kube_master=10.0.0.73\"\u001b[39m,\n",
      "  \u001b[32m\"[aws]\"\u001b[39m,\n",
      "  \u001b[32m\"50.16.73.7 local_ip=10.0.0.73\"\u001b[39m,\n",
      "  \u001b[32m\"52.207.57.11 local_ip=10.0.0.199\"\u001b[39m,\n",
      "  \u001b[32m\"54.236.43.68 local_ip=10.0.0.102\"\u001b[39m,\n",
      "  \u001b[32m\"[masters]\"\u001b[39m,\n",
      "  \u001b[32m\"50.16.73.7 local_ip=10.0.0.73\"\u001b[39m,\n",
      "  \u001b[32m\"[nodes]\"\u001b[39m,\n",
      "  \u001b[32m\"52.207.57.11 local_ip=10.0.0.199\"\u001b[39m,\n",
      "  \u001b[32m\"54.236.43.68 local_ip=10.0.0.102\"\u001b[39m\n",
      ")\n"
     ]
    },
    {
     "data": {
      "text/plain": [
       "\u001b[32mimport \u001b[39m\u001b[36mammonite.ops._\n",
       "\u001b[39m\n",
       "\u001b[36minv\u001b[39m: \u001b[32mPath\u001b[39m = /Users/msciab/Dropbox/Work/MacBookPro/MicheleSciabarra/Mosaico/cloud/aws/inventory"
      ]
     },
     "execution_count": 24,
     "metadata": {},
     "output_type": "execute_result"
    }
   ],
   "source": [
    "import ammonite.ops._\n",
    "val inv = pwd/'aws/\"inventory\"\n",
    "rm! inv\n",
    "write(inv, inventory.mkString(\"\\n\"))\n",
    "show(inventory)"
   ]
  },
  {
   "cell_type": "markdown",
   "metadata": {},
   "source": [
    "# Kubectl config"
   ]
  },
  {
   "cell_type": "code",
   "execution_count": 25,
   "metadata": {},
   "outputs": [
    {
     "data": {
      "text/plain": [
       "\u001b[36mkubecfg\u001b[39m: \u001b[32mString\u001b[39m = \u001b[32m\"\"\"\n",
       "\n",
       "apiVersion: v1\n",
       "clusters:\n",
       "- cluster:\n",
       "    server: http://50.16.73.7:8080\n",
       "  name: aws\n",
       "contexts:\n",
       "- context:\n",
       "    cluster: aws\n",
       "    user: \"\"\n",
       "  name: aws\n",
       "\u001b[33m...\u001b[39m"
      ]
     },
     "execution_count": 25,
     "metadata": {},
     "output_type": "execute_result"
    }
   ],
   "source": [
    " val kubecfg = s\"\"\"\n",
    "apiVersion: v1\n",
    "clusters:\n",
    "- cluster:\n",
    "    server: http://${ips.head._2}:8080\n",
    "  name: aws\n",
    "contexts:\n",
    "- context:\n",
    "    cluster: aws\n",
    "    user: \"\"\n",
    "  name: aws\n",
    "current-context: aws\n",
    "\"\"\""
   ]
  },
  {
   "cell_type": "code",
   "execution_count": 26,
   "metadata": {},
   "outputs": [
    {
     "data": {
      "text/plain": [
       "\u001b[36mcfg\u001b[39m: \u001b[32mPath\u001b[39m = /Users/msciab/Dropbox/Work/MacBookPro/MicheleSciabarra/Mosaico/cloud/aws/kubeconfig"
      ]
     },
     "execution_count": 26,
     "metadata": {},
     "output_type": "execute_result"
    }
   ],
   "source": [
    "val cfg = pwd/'aws/\"kubeconfig\"\n",
    "rm! cfg\n",
    "write(cfg, kubecfg)"
   ]
  },
  {
   "cell_type": "code",
   "execution_count": null,
   "metadata": {
    "collapsed": true
   },
   "outputs": [],
   "source": []
  }
 ],
 "metadata": {
  "kernelspec": {
   "display_name": "Scala",
   "language": "scala",
   "name": "scala"
  },
  "language_info": {
   "codemirror_mode": "text/x-scala",
   "file_extension": ".scala",
   "mimetype": "text/x-scala",
   "name": "scala211",
   "nbconvert_exporter": "script",
   "pygments_lexer": "scala",
   "version": "2.11.8"
  }
 },
 "nbformat": 4,
 "nbformat_minor": 2
}
