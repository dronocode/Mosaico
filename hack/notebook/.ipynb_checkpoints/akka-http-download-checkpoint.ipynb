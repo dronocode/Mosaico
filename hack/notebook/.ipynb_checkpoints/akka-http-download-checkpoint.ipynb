{
 "cells": [
  {
   "cell_type": "code",
   "execution_count": 1,
   "metadata": {
    "collapsed": false
   },
   "outputs": [
    {
     "name": "stdout",
     "output_type": "stream",
     "text": [
      "9 new artifact(s)\n"
     ]
    },
    {
     "name": "stderr",
     "output_type": "stream",
     "text": [
      "9 new artifacts in macro\n",
      "9 new artifacts in runtime\n",
      "9 new artifacts in compile\n"
     ]
    },
    {
     "data": {
      "text/plain": []
     },
     "metadata": {},
     "output_type": "display_data"
    }
   ],
   "source": [
    "classpath.add(\"com.typesafe.akka\" %% \"akka-http-core\" % \"2.4.8\")"
   ]
  },
  {
   "cell_type": "code",
   "execution_count": 31,
   "metadata": {
    "collapsed": false
   },
   "outputs": [
    {
     "data": {
      "text/plain": [
       "\u001b[32mimport \u001b[36makka.stream._\u001b[0m\n",
       "\u001b[32mimport \u001b[36makka.actor._\u001b[0m\n",
       "\u001b[32mimport \u001b[36makka.http._\u001b[0m\n",
       "\u001b[32mimport \u001b[36makka.http.scaladsl._\u001b[0m\n",
       "\u001b[32mimport \u001b[36makka.http.scaladsl.model._\u001b[0m\n",
       "\u001b[32mimport \u001b[36makka.util._\u001b[0m\n",
       "\u001b[36msystem\u001b[0m: \u001b[32mActorSystem\u001b[0m = akka://default\n",
       "\u001b[36mmaterializer\u001b[0m: \u001b[32mActorMaterializer\u001b[0m = ActorMaterializerImpl(akka://default,ActorMaterializerSettings(4,16,,<function1>,StreamSubscriptionTimeoutSettings(CancelTermination,5000 milliseconds),false,1000,1000,false,true),akka.dispatch.Dispatchers@e710705,Actor[akka://default/user/StreamSupervisor-4#-1670034039],false,akka.stream.impl.SeqActorNameImpl@7b90864c)"
      ]
     },
     "metadata": {},
     "output_type": "display_data"
    }
   ],
   "source": [
    "import akka.stream._\n",
    "import akka.stream.scaladsl._\n",
    "import akka.actor._\n",
    "import akka.http._\n",
    "import akka.http.scaladsl._\n",
    "import akka.http.scaladsl.model._\n",
    "import akka.util._\n",
    "\n",
    "\n",
    "implicit val system = ActorSystem()\n",
    "implicit val materializer = ActorMaterializer()"
   ]
  },
  {
   "cell_type": "code",
   "execution_count": 32,
   "metadata": {
    "collapsed": false
   },
   "outputs": [
    {
     "data": {
      "text/plain": [
       "\u001b[36mnow\u001b[0m: \u001b[32mString\u001b[0m = \u001b[32m\"http://www.timeapi.org/utc/now.json\"\u001b[0m\n",
       "\u001b[36mres\u001b[0m: \u001b[32mconcurrent\u001b[0m.\u001b[32mFuture\u001b[0m[\u001b[32mHttpResponse\u001b[0m] = List()"
      ]
     },
     "metadata": {},
     "output_type": "display_data"
    }
   ],
   "source": [
    "val now = \"http://www.timeapi.org/utc/now.json\"\n",
    "val res = Http().singleRequest(HttpRequest(uri=now))\n"
   ]
  },
  {
   "cell_type": "code",
   "execution_count": 40,
   "metadata": {
    "collapsed": false
   },
   "outputs": [
    {
     "data": {
      "text/plain": [
       "\u001b[36mstream\u001b[0m: \u001b[32mscaladsl\u001b[0m.\u001b[32mSource\u001b[0m[\u001b[32mByteString\u001b[0m, \u001b[32mAny\u001b[0m] = Source(SourceShape(StatefulMapConcat.out), CompositeModule [4be90ada]\n",
       "  Name: iterableSource\n",
       "  Modules:\n",
       "    (singleSource) GraphStage(SingleSource(List(ByteString(123, 34, 100, 97, 116, 101, 83, 116, 114, 105, 110, 103, 34, 58, 34, 50, 48, 49, 54, 45, 48, 56, 45, 48, 51, 84, 49, 57, 58, 49, 49, 58, 49, 55, 43, 48, 49, 58, 48, 48, 34, 125)))) [597d236b]\n",
       "    (unnamed) [245b4e70] copy of GraphStage(StatefulMapConcat) [23e5748a]\n",
       "  Downstreams: \n",
       "    single.out -> StatefulMapConcat.in\n",
       "  Upstreams: \n",
       "    StatefulMapConcat.in -> single.out\n",
       "  MatValue: Atomic(singleSource[597d236b]))"
      ]
     },
     "metadata": {},
     "output_type": "display_data"
    }
   ],
   "source": [
    "val stream = res.value.get.get.entity.dataBytes"
   ]
  },
  {
   "cell_type": "code",
   "execution_count": 41,
   "metadata": {
    "collapsed": false,
    "scrolled": true
   },
   "outputs": [
    {
     "data": {
      "text/plain": [
       "\u001b[36msink\u001b[0m: \u001b[32mscaladsl\u001b[0m.\u001b[32mSink\u001b[0m[\u001b[32mByteString\u001b[0m, \u001b[32mconcurrent\u001b[0m.\u001b[32mFuture\u001b[0m[\u001b[32mIOResult\u001b[0m]] = Sink(SinkShape(FileSink.in), FileSink(test.json, Set(WRITE, CREATE)) [22ea013e])"
      ]
     },
     "metadata": {},
     "output_type": "display_data"
    }
   ],
   "source": [
    "val sink = scaladsl.FileIO.toPath(new java.io.File(\"test.json\").toPath)"
   ]
  },
  {
   "cell_type": "code",
   "execution_count": 43,
   "metadata": {
    "collapsed": false
   },
   "outputs": [
    {
     "data": {
      "text/plain": [
       "\u001b[36mst\u001b[0m: \u001b[32mconcurrent\u001b[0m.\u001b[32mFuture\u001b[0m[\u001b[32mIOResult\u001b[0m] = List()"
      ]
     },
     "metadata": {},
     "output_type": "display_data"
    }
   ],
   "source": [
    "val st = stream.runWith(sink)"
   ]
  },
  {
   "cell_type": "code",
   "execution_count": 44,
   "metadata": {
    "collapsed": false
   },
   "outputs": [
    {
     "data": {
      "text/plain": [
       "\u001b[36mres43\u001b[0m: \u001b[32mOption\u001b[0m[\u001b[32mscala\u001b[0m.\u001b[32mutil\u001b[0m.\u001b[32mTry\u001b[0m[\u001b[32mIOResult\u001b[0m]] = \u001b[33mSome\u001b[0m(\u001b[33mSuccess\u001b[0m(\u001b[33mIOResult\u001b[0m(\u001b[32m42L\u001b[0m, \u001b[33mSuccess\u001b[0m(Done))))"
      ]
     },
     "metadata": {},
     "output_type": "display_data"
    }
   ],
   "source": [
    "st.value"
   ]
  }
 ],
 "metadata": {
  "kernelspec": {
   "display_name": "Scala 2.11",
   "language": "scala211",
   "name": "scala211"
  },
  "language_info": {
   "codemirror_mode": "text/x-scala",
   "file_extension": ".scala",
   "mimetype": "text/x-scala",
   "name": "scala211",
   "pygments_lexer": "scala",
   "version": "2.11.8"
  }
 },
 "nbformat": 4,
 "nbformat_minor": 0
}
