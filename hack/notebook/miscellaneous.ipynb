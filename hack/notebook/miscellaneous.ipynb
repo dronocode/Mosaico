{
 "cells": [
  {
   "cell_type": "markdown",
   "metadata": {},
   "source": [
    "# splitting url"
   ]
  },
  {
   "cell_type": "code",
   "execution_count": 12,
   "metadata": {},
   "outputs": [
    {
     "metadata": {}
    }
   ],
   "source": [
    "import java.net._, java.io._\n",
    "val url = \"http://d3kbcqa49mib13.cloudfront.net/test/spark-2.0.0-bin-hadoop2.7.tgz\"\n",
    "//val url = \"http://www.google.com/\"\n",
    "val u = new URL(url)\n",
    "val f = new File (u.getFile)\n",
    "f.getName"
   ]
  }
 ],
 "metadata": {
  "kernelspec": {
   "display_name": "Scala 2.11",
   "language": "scala211",
   "name": "scala211"
  },
  "language_info": {
   "codemirror_mode": "text/x-scala",
   "file_extension": ".scala",
   "mimetype": "text/x-scala",
   "name": "scala211",
   "pygments_lexer": "scala",
   "version": "2.11.8"
  }
 },
 "nbformat": 4,
 "nbformat_minor": 0
}