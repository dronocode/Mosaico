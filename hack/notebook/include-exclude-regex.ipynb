{
 "cells": [
  {
   "cell_type": "markdown",
   "metadata": {},
   "source": [
    "# includeExcludeRegex"
   ]
  },
  {
   "cell_type": "code",
   "execution_count": 45,
   "metadata": {
    "collapsed": false
   },
   "outputs": [
    {
     "data": {
      "text/plain": [
       "\u001b[36mregex\u001b[39m: \u001b[32mArray\u001b[39m[\u001b[32mString\u001b[39m] = \u001b[33mArray\u001b[39m(\u001b[32m\"+[a-z]\"\u001b[39m, \u001b[32m\"-[b-d]\"\u001b[39m, \u001b[32m\"+[a-d]\"\u001b[39m)"
      ]
     },
     "execution_count": 45,
     "metadata": {},
     "output_type": "execute_result"
    }
   ],
   "source": [
    "val regex = Array(\"+[a-z]\", \"-[b-d]\", \"+[a-d]\")"
   ]
  },
  {
   "cell_type": "markdown",
   "metadata": {},
   "source": [
    "include a-z exlude b-d and include a-d => only 'a' admissibile"
   ]
  },
  {
   "cell_type": "code",
   "execution_count": 46,
   "metadata": {
    "collapsed": false
   },
   "outputs": [
    {
     "data": {
      "text/plain": [
       "\u001b[36mr1\u001b[39m: \u001b[32mSeq\u001b[39m[(\u001b[32mBoolean\u001b[39m, \u001b[32mString\u001b[39m)] = \u001b[33mArrayBuffer\u001b[39m((\u001b[32mtrue\u001b[39m, \u001b[32m\"[a-z]\"\u001b[39m), (\u001b[32mfalse\u001b[39m, \u001b[32m\"[b-d]\"\u001b[39m), (\u001b[32mtrue\u001b[39m, \u001b[32m\"[a-d]\"\u001b[39m))"
      ]
     },
     "execution_count": 46,
     "metadata": {},
     "output_type": "execute_result"
    }
   ],
   "source": [
    "val r1 = regex.toSeq.map(x=> (x(0) == '+') -> x.tail)"
   ]
  },
  {
   "cell_type": "code",
   "execution_count": 47,
   "metadata": {
    "collapsed": false
   },
   "outputs": [
    {
     "data": {
      "text/plain": [
       "\u001b[36minput\u001b[39m: \u001b[32mString\u001b[39m = \u001b[32m\"a\"\u001b[39m\n",
       "\u001b[36mr2\u001b[39m: \u001b[32mSeq\u001b[39m[(\u001b[32mBoolean\u001b[39m, \u001b[32mBoolean\u001b[39m)] = \u001b[33mArrayBuffer\u001b[39m((\u001b[32mtrue\u001b[39m, \u001b[32mtrue\u001b[39m), (\u001b[32mfalse\u001b[39m, \u001b[32mfalse\u001b[39m), (\u001b[32mtrue\u001b[39m, \u001b[32mtrue\u001b[39m))"
      ]
     },
     "execution_count": 47,
     "metadata": {},
     "output_type": "execute_result"
    }
   ],
   "source": [
    "val input = \"a\"\n",
    "val r2 = r1.map { \n",
    "    case(result, regex) => input.matches(regex) -> result\n",
    "}"
   ]
  },
  {
   "cell_type": "code",
   "execution_count": 48,
   "metadata": {
    "collapsed": false
   },
   "outputs": [
    {
     "data": {
      "text/plain": [
       "\u001b[36minput\u001b[39m: \u001b[32mString\u001b[39m = \u001b[32m\"b\"\u001b[39m\n",
       "\u001b[36mr3\u001b[39m: \u001b[32mSeq\u001b[39m[(\u001b[32mBoolean\u001b[39m, \u001b[32mBoolean\u001b[39m)] = \u001b[33mArrayBuffer\u001b[39m((\u001b[32mtrue\u001b[39m, \u001b[32mtrue\u001b[39m), (\u001b[32mtrue\u001b[39m, \u001b[32mfalse\u001b[39m), (\u001b[32mtrue\u001b[39m, \u001b[32mtrue\u001b[39m))"
      ]
     },
     "execution_count": 48,
     "metadata": {},
     "output_type": "execute_result"
    }
   ],
   "source": [
    "val input = \"b\"\n",
    "val r3 = r1.map { \n",
    "    case(result, regex) => input.matches(regex) -> result\n",
    "}"
   ]
  },
  {
   "cell_type": "code",
   "execution_count": 49,
   "metadata": {
    "collapsed": false
   },
   "outputs": [
    {
     "data": {
      "text/plain": [
       "\u001b[36minput\u001b[39m: \u001b[32mString\u001b[39m = \u001b[32m\"c\"\u001b[39m\n",
       "\u001b[36mr4\u001b[39m: \u001b[32mSeq\u001b[39m[(\u001b[32mBoolean\u001b[39m, \u001b[32mBoolean\u001b[39m)] = \u001b[33mArrayBuffer\u001b[39m((\u001b[32mtrue\u001b[39m, \u001b[32mtrue\u001b[39m), (\u001b[32mtrue\u001b[39m, \u001b[32mfalse\u001b[39m), (\u001b[32mtrue\u001b[39m, \u001b[32mtrue\u001b[39m))"
      ]
     },
     "execution_count": 49,
     "metadata": {},
     "output_type": "execute_result"
    }
   ],
   "source": [
    "val input = \"c\"\n",
    "val r4 = r1.map { \n",
    "    case(result, regex) => input.matches(regex) -> result\n",
    "}"
   ]
  },
  {
   "cell_type": "code",
   "execution_count": 55,
   "metadata": {
    "collapsed": false
   },
   "outputs": [
    {
     "data": {
      "text/plain": [
       "\u001b[36mres54_0\u001b[39m: \u001b[32mBoolean\u001b[39m = \u001b[32mtrue\u001b[39m\n",
       "\u001b[36mres54_1\u001b[39m: \u001b[32mBoolean\u001b[39m = \u001b[32mfalse\u001b[39m\n",
       "\u001b[36mres54_2\u001b[39m: \u001b[32mBoolean\u001b[39m = \u001b[32mfalse\u001b[39m"
      ]
     },
     "execution_count": 55,
     "metadata": {},
     "output_type": "execute_result"
    }
   ],
   "source": [
    "r2.map(x => x._1 == x._2).reduce(_ && _)\n",
    "r3.map(x => x._1 == x._2).reduce(_ && _)\n",
    "r4.map(x => x._1 == x._2).reduce(_ && _)"
   ]
  }
 ],
 "metadata": {
  "kernelspec": {
   "display_name": "Scala",
   "language": "scala",
   "name": "scala"
  },
  "language_info": {
   "codemirror_mode": "text/x-scala",
   "file_extension": ".scala",
   "mimetype": "text/x-scala",
   "name": "scala211",
   "nbconvert_exporter": "scala",
   "pygments_lexer": "scala",
   "version": "2.11.8"
  }
 },
 "nbformat": 4,
 "nbformat_minor": 0
}
