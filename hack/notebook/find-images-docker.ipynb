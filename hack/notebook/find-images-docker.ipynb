{
 "cells": [
  {
   "cell_type": "code",
   "execution_count": 1,
   "metadata": {
    "collapsed": false
   },
   "outputs": [
    {
     "data": {
      "text/plain": [
       "\u001b[32mimport \u001b[39m\u001b[36mscala.sys.process._\u001b[39m"
      ]
     },
     "execution_count": 1,
     "metadata": {},
     "output_type": "execute_result"
    }
   ],
   "source": [
    "import scala.sys.process._"
   ]
  },
  {
   "cell_type": "code",
   "execution_count": 2,
   "metadata": {
    "collapsed": false
   },
   "outputs": [
    {
     "data": {
      "text/plain": [
       "\u001b[36mres1\u001b[39m: \u001b[32mString\u001b[39m = \u001b[32m\"\"\"\n",
       "REPOSITORY            TAG                 IMAGE ID            CREATED             SIZE\n",
       "mosaico/abuild        3                   3af917b24969        4 hours ago         285 MB\n",
       "oraclelinux           7                   4fa40ffcfccd        5 weeks ago         225 MB\n",
       "ubuntubuilder         latest              ab327d93e9ad        7 weeks ago         309 MB\n",
       "alpine                edge                a1a3cae7a75e        2 months ago        3.98 MB\n",
       "alpine                latest              baa5d63471ea        2 months ago      \u001b[33m...\u001b[39m"
      ]
     },
     "execution_count": 2,
     "metadata": {},
     "output_type": "execute_result"
    }
   ],
   "source": [
    "\"docker images\".!!"
   ]
  },
  {
   "cell_type": "code",
   "execution_count": 8,
   "metadata": {
    "collapsed": false
   },
   "outputs": [
    {
     "data": {
      "text/plain": [
       "\u001b[36ms1\u001b[39m: \u001b[32mList\u001b[39m[\u001b[32mString\u001b[39m] = \u001b[33mList\u001b[39m(\n",
       "  \u001b[32m\"mosaico/abuild        3                   3af917b24969        4 hours ago         285 MB\"\u001b[39m,\n",
       "  \u001b[32m\"oraclelinux           7                   4fa40ffcfccd        5 weeks ago         225 MB\"\u001b[39m,\n",
       "  \u001b[32m\"ubuntubuilder         latest              ab327d93e9ad        7 weeks ago         309 MB\"\u001b[39m,\n",
       "  \u001b[32m\"alpine                edge                a1a3cae7a75e        2 months ago        3.98 MB\"\u001b[39m,\n",
       "  \u001b[32m\"alpine                latest              baa5d63471ea        2 months ago        4.8 MB\"\u001b[39m,\n",
       "  \u001b[32m\"ubuntu                14.04.5             f2d8ce9fa988        2 months ago   \u001b[33m...\u001b[39m"
      ]
     },
     "execution_count": 8,
     "metadata": {},
     "output_type": "execute_result"
    }
   ],
   "source": [
    "  val s1 = \"docker images\".!!\n",
    "      .split(\"\\n\").toList.tail"
   ]
  },
  {
   "cell_type": "code",
   "execution_count": 14,
   "metadata": {
    "collapsed": false
   },
   "outputs": [
    {
     "data": {
      "text/plain": [
       "\u001b[36ms2\u001b[39m: \u001b[32mList\u001b[39m[\u001b[32mList\u001b[39m[\u001b[32mString\u001b[39m]] = \u001b[33mList\u001b[39m(\n",
       "  \u001b[33mList\u001b[39m(\u001b[32m\"mosaico/abuild\"\u001b[39m, \u001b[32m\"3\"\u001b[39m, \u001b[32m\"3af917b24969\"\u001b[39m, \u001b[32m\"4\"\u001b[39m, \u001b[32m\"hours\"\u001b[39m, \u001b[32m\"ago\"\u001b[39m, \u001b[32m\"285\"\u001b[39m, \u001b[32m\"MB\"\u001b[39m),\n",
       "  \u001b[33mList\u001b[39m(\u001b[32m\"oraclelinux\"\u001b[39m, \u001b[32m\"7\"\u001b[39m, \u001b[32m\"4fa40ffcfccd\"\u001b[39m, \u001b[32m\"5\"\u001b[39m, \u001b[32m\"weeks\"\u001b[39m, \u001b[32m\"ago\"\u001b[39m, \u001b[32m\"225\"\u001b[39m, \u001b[32m\"MB\"\u001b[39m),\n",
       "  \u001b[33mList\u001b[39m(\n",
       "    \u001b[32m\"ubuntubuilder\"\u001b[39m,\n",
       "    \u001b[32m\"latest\"\u001b[39m,\n",
       "    \u001b[32m\"ab327d93e9ad\"\u001b[39m,\n",
       "    \u001b[32m\"7\"\u001b[39m,\n",
       "    \u001b[32m\"weeks\"\u001b[39m,\n",
       "    \u001b[32m\"ago\"\u001b[39m,\n",
       "    \u001b[32m\"309\"\u001b[39m,\n",
       "    \u001b[32m\"MB\"\u001b[39m\n",
       "\u001b[33m...\u001b[39m"
      ]
     },
     "execution_count": 14,
     "metadata": {},
     "output_type": "execute_result"
    }
   ],
   "source": [
    "val s2 = s1.map(_.split(\"\\\\s+\").toList)"
   ]
  },
  {
   "cell_type": "code",
   "execution_count": 16,
   "metadata": {
    "collapsed": false
   },
   "outputs": [
    {
     "data": {
      "text/plain": [
       "\u001b[36ms3\u001b[39m: \u001b[32mList\u001b[39m[(\u001b[32mString\u001b[39m, \u001b[32mString\u001b[39m)] = \u001b[33mList\u001b[39m(\n",
       "  (\u001b[32m\"mosaico/abuild:3\"\u001b[39m, \u001b[32m\"3af917b24969\"\u001b[39m),\n",
       "  (\u001b[32m\"oraclelinux:7\"\u001b[39m, \u001b[32m\"4fa40ffcfccd\"\u001b[39m),\n",
       "  (\u001b[32m\"ubuntubuilder:latest\"\u001b[39m, \u001b[32m\"ab327d93e9ad\"\u001b[39m),\n",
       "  (\u001b[32m\"alpine:edge\"\u001b[39m, \u001b[32m\"a1a3cae7a75e\"\u001b[39m),\n",
       "  (\u001b[32m\"alpine:latest\"\u001b[39m, \u001b[32m\"baa5d63471ea\"\u001b[39m),\n",
       "  (\u001b[32m\"ubuntu:14.04.5\"\u001b[39m, \u001b[32m\"f2d8ce9fa988\"\u001b[39m),\n",
       "  (\u001b[32m\"java:latest\"\u001b[39m, \u001b[32m\"96cddf5ae9f1\"\u001b[39m),\n",
       "  (\u001b[32m\"cloudera/quickstart:latest\"\u001b[39m, \u001b[32m\"4239cd2958c6\"\u001b[39m)\n",
       ")"
      ]
     },
     "execution_count": 16,
     "metadata": {},
     "output_type": "execute_result"
    }
   ],
   "source": [
    "val s3 = s2.map(x=> x(0)+\":\"+x(1) -> x(2))"
   ]
  },
  {
   "cell_type": "markdown",
   "metadata": {},
   "source": []
  },
  {
   "cell_type": "code",
   "execution_count": 24,
   "metadata": {
    "collapsed": false
   },
   "outputs": [
    {
     "data": {
      "text/plain": [
       "defined \u001b[32mfunction\u001b[39m \u001b[36mfindImagesByName\u001b[39m"
      ]
     },
     "execution_count": 24,
     "metadata": {},
     "output_type": "execute_result"
    }
   ],
   "source": [
    "  def findImagesByName(name: String) = {\n",
    "    val s1 = \"docker images\".!!\n",
    "      .split(\"\\n\").toList.tail\n",
    "    //s1=List(\"mosaico/abuild   3   3af9 ....\"...)\n",
    "    val s2 = s1.map(_.split(\"\\\\s+\").toList)\n",
    "    //s2=List(List(\"mosaico/abuild\",\"3\",\"3af9\",...)...)\n",
    "    val s3 = s2.map(x=> x(0)+\":\"+x(1) -> x(2))\n",
    "    //List( \"mosaico/abuild:3\" -> \"3af9\",....)\n",
    "    s3.filter(_._1.indexOf(name)!= -1)\n",
    "    // filter with first and extract the second\n",
    "  }\n"
   ]
  },
  {
   "cell_type": "code",
   "execution_count": 25,
   "metadata": {
    "collapsed": false
   },
   "outputs": [
    {
     "data": {
      "text/plain": [
       "\u001b[36mres24\u001b[39m: \u001b[32mList\u001b[39m[(\u001b[32mString\u001b[39m, \u001b[32mString\u001b[39m)] = \u001b[33mList\u001b[39m((\u001b[32m\"alpine:edge\"\u001b[39m, \u001b[32m\"a1a3cae7a75e\"\u001b[39m), (\u001b[32m\"alpine:latest\"\u001b[39m, \u001b[32m\"baa5d63471ea\"\u001b[39m))"
      ]
     },
     "execution_count": 25,
     "metadata": {},
     "output_type": "execute_result"
    }
   ],
   "source": [
    "findImagesByName(\"alpine\")"
   ]
  },
  {
   "cell_type": "code",
   "execution_count": 26,
   "metadata": {
    "collapsed": false
   },
   "outputs": [
    {
     "data": {
      "text/plain": [
       "\u001b[36margs\u001b[39m: \u001b[32mArray\u001b[39m[\u001b[32mString\u001b[39m] = \u001b[33mArray\u001b[39m(\u001b[32m\"alpine\"\u001b[39m, \u001b[32m\":latest\"\u001b[39m)"
      ]
     },
     "execution_count": 26,
     "metadata": {},
     "output_type": "execute_result"
    }
   ],
   "source": [
    "val args=Array(\"alpine\", \":latest\")"
   ]
  },
  {
   "cell_type": "code",
   "execution_count": 32,
   "metadata": {
    "collapsed": false
   },
   "outputs": [
    {
     "data": {
      "text/plain": [
       "\u001b[36mres31\u001b[39m: \u001b[32mArray\u001b[39m[\u001b[32mString\u001b[39m] = \u001b[33mArray\u001b[39m(\n",
       "  \u001b[32m\"alpine:edge\"\u001b[39m,\n",
       "  \u001b[32m\"alpine:latest\"\u001b[39m,\n",
       "  \u001b[32m\"ubuntubuilder:latest\"\u001b[39m,\n",
       "  \u001b[32m\"java:latest\"\u001b[39m,\n",
       "  \u001b[32m\"cloudera/quickstart:latest\"\u001b[39m\n",
       ")"
      ]
     },
     "execution_count": 32,
     "metadata": {},
     "output_type": "execute_result"
    }
   ],
   "source": [
    "args.flatMap(findImagesByName(_)).distinct.map(_._1)"
   ]
  },
  {
   "cell_type": "code",
   "execution_count": null,
   "metadata": {
    "collapsed": true
   },
   "outputs": [],
   "source": []
  }
 ],
 "metadata": {
  "kernelspec": {
   "display_name": "Scala",
   "language": "scala",
   "name": "scala"
  },
  "language_info": {
   "codemirror_mode": "text/x-scala",
   "file_extension": ".scala",
   "mimetype": "text/x-scala",
   "name": "scala211",
   "nbconvert_exporter": "scala",
   "pygments_lexer": "scala",
   "version": "2.11.8"
  }
 },
 "nbformat": 4,
 "nbformat_minor": 0
}
